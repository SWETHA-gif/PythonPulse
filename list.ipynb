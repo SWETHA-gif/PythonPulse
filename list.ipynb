{
 "cells": [
  {
   "cell_type": "code",
   "execution_count": 1,
   "id": "42821ede",
   "metadata": {},
   "outputs": [
    {
     "name": "stdout",
     "output_type": "stream",
     "text": [
      "['apply', 'banana', 'orange', 'pears']\n"
     ]
    }
   ],
   "source": [
    "LIST:\n",
    "    \n",
    "fruit = [\"apply\" , \"banana\" , \"orange\" , \"pears\"]\n",
    "print(fruit)"
   ]
  },
  {
   "cell_type": "code",
   "execution_count": 2,
   "id": "d7ff121f",
   "metadata": {},
   "outputs": [
    {
     "name": "stdout",
     "output_type": "stream",
     "text": [
      "apply\n",
      "['apply', 'banana', 'orange']\n"
     ]
    }
   ],
   "source": [
    "print(fruit[0])\n",
    "print(fruit[0:3])\n"
   ]
  },
  {
   "cell_type": "code",
   "execution_count": 7,
   "id": "0011cfd9",
   "metadata": {},
   "outputs": [
    {
     "name": "stdout",
     "output_type": "stream",
     "text": [
      "None\n"
     ]
    }
   ],
   "source": [
    "dut = fruit.append(\"grapes\")\n",
    "print(dut)"
   ]
  },
  {
   "cell_type": "code",
   "execution_count": 9,
   "id": "5163e1f8",
   "metadata": {},
   "outputs": [
    {
     "name": "stdout",
     "output_type": "stream",
     "text": [
      "['apply', 'banana', 'orange', 'pears', 'grapes']\n"
     ]
    }
   ],
   "source": [
    "fruit = [\"apply\" , \"banana\" , \"orange\" , \"pears\"]\n",
    "fruit.append(\"grapes\")\n",
    "print(fruit)"
   ]
  },
  {
   "cell_type": "code",
   "execution_count": 10,
   "id": "b58c77db",
   "metadata": {},
   "outputs": [
    {
     "name": "stdout",
     "output_type": "stream",
     "text": [
      "5\n"
     ]
    }
   ],
   "source": [
    "print(len(fruit))"
   ]
  },
  {
   "cell_type": "code",
   "execution_count": 11,
   "id": "5660f342",
   "metadata": {},
   "outputs": [
    {
     "name": "stdout",
     "output_type": "stream",
     "text": [
      "['apply', 'banana', 'orange', 'pears', 'grapes', 22, 54, 98, 243, 18, 9, 987]\n"
     ]
    }
   ],
   "source": [
    "number = [22,54,98,243,18,9,987]\n",
    "print(fruit+number)"
   ]
  },
  {
   "cell_type": "code",
   "execution_count": 15,
   "id": "b2b317cb",
   "metadata": {},
   "outputs": [
    {
     "name": "stdout",
     "output_type": "stream",
     "text": [
      "[9, 18, 22, 54, 98, 243, 987]\n"
     ]
    }
   ],
   "source": [
    "number.sort()\n",
    "print(number)"
   ]
  },
  {
   "cell_type": "code",
   "execution_count": 17,
   "id": "b6299b64",
   "metadata": {},
   "outputs": [
    {
     "name": "stdout",
     "output_type": "stream",
     "text": [
      "[987, 243, 98, 54, 22, 18, 9]\n"
     ]
    }
   ],
   "source": [
    "number.sort(reverse = True)\n",
    "print(number)"
   ]
  },
  {
   "cell_type": "code",
   "execution_count": 26,
   "id": "9c78ee08",
   "metadata": {},
   "outputs": [
    {
     "name": "stdout",
     "output_type": "stream",
     "text": [
      "['apple', 'grapes', 'orange', 'pears']\n"
     ]
    }
   ],
   "source": [
    "fruit = [\"apple\" , \"banana\" , \"orange\" , \"pears\"]\n",
    "fruit[1] = \"grapes\"\n",
    "print(fruit)"
   ]
  },
  {
   "cell_type": "code",
   "execution_count": 27,
   "id": "176d0539",
   "metadata": {},
   "outputs": [
    {
     "name": "stdout",
     "output_type": "stream",
     "text": [
      "['apple', 'grapes', 'pears']\n"
     ]
    }
   ],
   "source": [
    "fruit.remove(\"orange\")\n",
    "print(fruit)"
   ]
  },
  {
   "cell_type": "code",
   "execution_count": 28,
   "id": "d5269739",
   "metadata": {},
   "outputs": [
    {
     "name": "stdout",
     "output_type": "stream",
     "text": [
      "['apple', 'pears']\n"
     ]
    }
   ],
   "source": [
    "fruit.pop(1)\n",
    "print(fruit)"
   ]
  },
  {
   "cell_type": "code",
   "execution_count": 34,
   "id": "f2d7794a",
   "metadata": {},
   "outputs": [
    {
     "name": "stdout",
     "output_type": "stream",
     "text": [
      "[]\n"
     ]
    }
   ],
   "source": [
    "print(fruit)"
   ]
  },
  {
   "cell_type": "code",
   "execution_count": 35,
   "id": "37c2e959",
   "metadata": {},
   "outputs": [
    {
     "name": "stdout",
     "output_type": "stream",
     "text": [
      "[987, 243, 98, 54, 22, 18, 9]\n"
     ]
    }
   ],
   "source": [
    "print(number)"
   ]
  },
  {
   "cell_type": "code",
   "execution_count": 36,
   "id": "13f5e274",
   "metadata": {},
   "outputs": [
    {
     "name": "stdout",
     "output_type": "stream",
     "text": [
      "[987, 243, 98, 22, 18, 9]\n"
     ]
    }
   ],
   "source": [
    "number.pop(3)\n",
    "print(number)"
   ]
  },
  {
   "cell_type": "code",
   "execution_count": 37,
   "id": "8c21538a",
   "metadata": {},
   "outputs": [
    {
     "name": "stdout",
     "output_type": "stream",
     "text": [
      "[987, 243, 98, 22, 18]\n"
     ]
    }
   ],
   "source": [
    "number.pop()\n",
    "print(number)"
   ]
  },
  {
   "cell_type": "code",
   "execution_count": 38,
   "id": "3fc071f6",
   "metadata": {},
   "outputs": [
    {
     "name": "stdout",
     "output_type": "stream",
     "text": [
      "[987, 243, 98, 22]\n"
     ]
    }
   ],
   "source": [
    "number.pop()\n",
    "print(number)"
   ]
  },
  {
   "cell_type": "code",
   "execution_count": 42,
   "id": "a1da31ca",
   "metadata": {},
   "outputs": [
    {
     "name": "stdout",
     "output_type": "stream",
     "text": [
      "['dog', 'cat', 'ant', 'snake', 'bird']\n"
     ]
    }
   ],
   "source": [
    "pet = [\"dog\" , \"cat\" , \"ant\" , \"snake\" , \"bird\"]\n",
    "\n",
    "print(pet)"
   ]
  },
  {
   "cell_type": "code",
   "execution_count": 45,
   "id": "88956e72",
   "metadata": {},
   "outputs": [
    {
     "name": "stdout",
     "output_type": "stream",
     "text": [
      "dog\n",
      "cat\n",
      "ant\n",
      "snake\n",
      "bird\n"
     ]
    }
   ],
   "source": [
    "for i in pet:\n",
    "    print(i)"
   ]
  },
  {
   "cell_type": "code",
   "execution_count": null,
   "id": "5aff13a5",
   "metadata": {},
   "outputs": [],
   "source": []
  },
  {
   "cell_type": "code",
   "execution_count": null,
   "id": "6288b061",
   "metadata": {},
   "outputs": [],
   "source": []
  }
 ],
 "metadata": {
  "kernelspec": {
   "display_name": "Python 3 (ipykernel)",
   "language": "python",
   "name": "python3"
  },
  "language_info": {
   "codemirror_mode": {
    "name": "ipython",
    "version": 3
   },
   "file_extension": ".py",
   "mimetype": "text/x-python",
   "name": "python",
   "nbconvert_exporter": "python",
   "pygments_lexer": "ipython3",
   "version": "3.11.5"
  }
 },
 "nbformat": 4,
 "nbformat_minor": 5
}
