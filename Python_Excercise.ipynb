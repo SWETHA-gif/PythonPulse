{
 "cells": [
  {
   "cell_type": "code",
   "execution_count": 1,
   "id": "db2f3faa",
   "metadata": {},
   "outputs": [
    {
     "name": "stdout",
     "output_type": "stream",
     "text": [
      "4\n",
      "5\n",
      "10.0\n"
     ]
    }
   ],
   "source": [
    "'''Write a program that reads the length of the base and the height of a right-angled triangle \n",
    "and prints the area.Every number is given on a separate line. '''\n",
    "\n",
    "b = float(input())\n",
    "h = float(input())\n",
    "area =(0.5 * (b) * (h))\n",
    "print(area)"
   ]
  },
  {
   "cell_type": "code",
   "execution_count": 2,
   "id": "4c46d57f",
   "metadata": {},
   "outputs": [
    {
     "name": "stdout",
     "output_type": "stream",
     "text": [
      "enter hour:1\n",
      "enter mins:1\n",
      "enter seconds:1\n",
      "enter hour:2\n",
      "enter mins:2\n",
      "enter seconds:2\n",
      "3661\n"
     ]
    }
   ],
   "source": [
    "'''A timestamp is three numbers: a number of hours, minutes and seconds.\n",
    "Given two timestamps, calculate how many seconds is between them.\n",
    "The moment of the first timestamp occurred before the moment of the second timestamp '''\n",
    "\n",
    "hrs1 = int(input(\"enter hour:\"))\n",
    "mins1 = int(input(\"enter mins:\"))\n",
    "sec1 = int(input(\"enter seconds:\"))\n",
    "\n",
    "hrs2 = int(input(\"enter hour:\"))\n",
    "mins2 = int(input(\"enter mins:\"))\n",
    "sec2 = int(input(\"enter seconds:\"))\n",
    "\n",
    "t1 = hrs1 * 3600 + mins1 * 60 + sec1    \n",
    "t2 = hrs2 * 3600 + mins2 * 60 + sec2\n",
    "\n",
    "res = t1 - t2\n",
    "\n",
    "print(abs(res))\n",
    "\n"
   ]
  },
  {
   "cell_type": "code",
   "execution_count": 5,
   "id": "43288dca",
   "metadata": {},
   "outputs": [
    {
     "name": "stdout",
     "output_type": "stream",
     "text": [
      "Enter the number of students in the first class: 20\n",
      "Enter the number of students in the second class: 21\n",
      "Enter the number of students in the third class: 23\n",
      "The smallest possible number of desks needed is: 33\n"
     ]
    }
   ],
   "source": [
    "'''A school decided to replace the desks in three classrooms. Each desk sits two students. Given the number of students\n",
    "in each class, print the smallest possible number of desks that can be purchased.\n",
    "The program should read three integers: the number of students in each of the three classes, a, b and c respectively.\n",
    "In the first test there are three groups. The first group has 20 students and thus needs 10 desks. The second group\n",
    "has 21 students, so they can get by with no fewer than 11 desks. 11 desks is also enough for the third group of 22 students. \n",
    "So we need 32 desks in total'''\n",
    "\n",
    "# Read the number of students in each class\n",
    "a = int(input(\"Enter the number of students in the first class: \"))\n",
    "b = int(input(\"Enter the number of students in the second class: \"))\n",
    "c = int(input(\"Enter the number of students in the third class: \"))\n",
    "\n",
    "# Calculate the minimum number of desks needed for each class\n",
    "desks_a = (a + 1) // 2  # Divide by 2, round up to the nearest whole number\n",
    "desks_b = (b + 1) // 2\n",
    "desks_c = (c + 1) // 2\n",
    "\n",
    "# Calculate the total number of desks needed for all three classes\n",
    "total_desks = desks_a + desks_b + desks_c\n",
    "\n",
    "# Print the total number of desks required\n",
    "print(\"The smallest possible number of desks needed is:\", total_desks)"
   ]
  },
  {
   "cell_type": "code",
   "execution_count": 6,
   "id": "4e32ec7b",
   "metadata": {},
   "outputs": [
    {
     "name": "stdout",
     "output_type": "stream",
     "text": [
      "enter:20\n",
      "enter:21\n",
      "enter:23\n",
      "33\n"
     ]
    }
   ],
   "source": [
    "a = int(input(\"enter:\"))\n",
    "b = int(input(\"enter:\"))\n",
    "c = int(input(\"enter:\"))\n",
    "import math\n",
    "x = math.ceil(a/2)\n",
    "y = math.ceil(b/2)\n",
    "z = math.ceil(c/2)\n",
    "\n",
    "print((x+y+z))"
   ]
  },
  {
   "cell_type": "code",
   "execution_count": 7,
   "id": "01391d1a",
   "metadata": {},
   "outputs": [
    {
     "name": "stdout",
     "output_type": "stream",
     "text": [
      "enter:20\n",
      "enter:21\n",
      "enter:22\n",
      "31.0\n"
     ]
    }
   ],
   "source": [
    "a = int(input(\"enter:\"))\n",
    "b = int(input(\"enter:\"))\n",
    "c = int(input(\"enter:\"))\n",
    "\n",
    "x = round((a/2),0) \n",
    "y = round((b/2),0) \n",
    "z = round((c/2),0)\n",
    "\n",
    "print((x+y+z))"
   ]
  },
  {
   "cell_type": "code",
   "execution_count": 1,
   "id": "08a85545",
   "metadata": {},
   "outputs": [
    {
     "name": "stdout",
     "output_type": "stream",
     "text": [
      "123\n",
      "3\n"
     ]
    }
   ],
   "source": [
    "#Given an integer number, print its last digit.\n",
    "\n",
    "a = int(input())\n",
    "print(a % 10)"
   ]
  },
  {
   "cell_type": "code",
   "execution_count": 2,
   "id": "89dae901",
   "metadata": {},
   "outputs": [
    {
     "name": "stdout",
     "output_type": "stream",
     "text": [
      "enter:524\n",
      "2\n"
     ]
    }
   ],
   "source": [
    "#Given an integer. Print its tens digit.\n",
    "\n",
    "n = int(input(\"enter:\"))\n",
    "s = n%100 \n",
    "d = s// 10\n",
    "print(d)"
   ]
  },
  {
   "cell_type": "code",
   "execution_count": 4,
   "id": "d1f7ca1b",
   "metadata": {},
   "outputs": [
    {
     "name": "stdout",
     "output_type": "stream",
     "text": [
      "enter:285\n",
      "15\n"
     ]
    }
   ],
   "source": [
    "#Given a three-digit number. Find the sum of its digits.\n",
    "\n",
    "num = int(input(\"enter:\"))\n",
    "\n",
    "o = num%10\n",
    "t = num//10%10\n",
    "h = num// 100\n",
    "\n",
    "print(o+t+h)"
   ]
  },
  {
   "cell_type": "code",
   "execution_count": 13,
   "id": "94822d89",
   "metadata": {},
   "outputs": [
    {
     "name": "stdout",
     "output_type": "stream",
     "text": [
      "enter:23\n",
      "0.0\n"
     ]
    }
   ],
   "source": [
    "#Given a positive real number, print its fractional part.\n",
    "\n",
    "n = float(input(\"enter:\"))\n",
    "s = n%1\n",
    "print(s)"
   ]
  },
  {
   "cell_type": "code",
   "execution_count": 12,
   "id": "9a873ad4",
   "metadata": {},
   "outputs": [
    {
     "name": "stdout",
     "output_type": "stream",
     "text": [
      "17.9\n",
      "0.8999999999999986\n"
     ]
    }
   ],
   "source": [
    "x = float(input())\n",
    "print(x - int(x))"
   ]
  },
  {
   "cell_type": "code",
   "execution_count": 6,
   "id": "7df51916",
   "metadata": {},
   "outputs": [
    {
     "name": "stdout",
     "output_type": "stream",
     "text": [
      "enter:17.98\n",
      "0.9800000000000004\n"
     ]
    }
   ],
   "source": [
    "#Given a positive real number, print its first digit to the right of the decimal point.\n",
    "\n",
    "n = float(input(\"enter:\"))\n",
    "s = n%1\n",
    "print(s)\n",
    "\n"
   ]
  },
  {
   "cell_type": "code",
   "execution_count": 7,
   "id": "ad14612e",
   "metadata": {},
   "outputs": [
    {
     "name": "stdout",
     "output_type": "stream",
     "text": [
      "17.98\n",
      "0.9800000000000004\n"
     ]
    }
   ],
   "source": [
    "x = float(input())\n",
    "print(x - int(x))"
   ]
  },
  {
   "cell_type": "code",
   "execution_count": 8,
   "id": "f2082ea3",
   "metadata": {},
   "outputs": [
    {
     "name": "stdout",
     "output_type": "stream",
     "text": [
      "enter:23.78\n",
      "7\n"
     ]
    }
   ],
   "source": [
    "#Given a positive real number, print its first digit to the right of the decimal point.\n",
    "\n",
    "n = float(input(\"enter:\")) \n",
    "s = n-int(n)       \n",
    "x = str(s)\n",
    "x = x[2]   \n",
    "print(x)"
   ]
  },
  {
   "cell_type": "code",
   "execution_count": 9,
   "id": "a05faf13",
   "metadata": {},
   "outputs": [
    {
     "name": "stdout",
     "output_type": "stream",
     "text": [
      "23.78\n",
      "7\n"
     ]
    }
   ],
   "source": [
    "x = float(input())\n",
    "print(int(x * 10) % 10)"
   ]
  },
  {
   "cell_type": "code",
   "execution_count": 4,
   "id": "67cac9f8",
   "metadata": {},
   "outputs": [
    {
     "name": "stdout",
     "output_type": "stream",
     "text": [
      "enter:70\n",
      "enter:50\n",
      "entered number is correct\n",
      "1.4\n"
     ]
    }
   ],
   "source": [
    "\"\"\" A car can cover distance of N kilometers per day.\n",
    "How many days will it take to cover a route of length M kilometers? The program gets two numbers: N and M.\"\"\"\n",
    "\n",
    "m = int(input(\"enter:\"))\n",
    "n = int(input(\"enter:\"))\n",
    "if m>n:\n",
    "    print(\"entered number is correct\")\n",
    "else:\n",
    "    print(\"you have to enter correct number bcoz n<m\")\n",
    "#car = 1*m : n*d -- m/n = d\n",
    "d = m/n\n",
    "import math\n",
    "print(math.ceil(d))\n"
   ]
  },
  {
   "cell_type": "code",
   "execution_count": 20,
   "id": "cc6f3700",
   "metadata": {},
   "outputs": [
    {
     "name": "stdout",
     "output_type": "stream",
     "text": [
      "enter total minutes:150\n",
      "2 : 30\n"
     ]
    }
   ],
   "source": [
    "\"\"\" Given the integer N - the number of minutes that is passed since midnight - how many hours and minutes \n",
    "are displayed on the 24h digital clock? The program should print two numbers: the number of hours (between 0 and 23)\n",
    "and the number of minutes (between 0 and 59).\n",
    "For example, if N = 150, then 150 minutes have passed\n",
    "since midnight - i.e. now is 2:30 am. So the program should print 2 30.\"\"\"\n",
    "\n",
    "n = int(input(\"enter total minutes:\"))\n",
    "hours = n // 60\n",
    "minutes = n % 60\n",
    "print(hours , \":\" , minutes)"
   ]
  },
  {
   "cell_type": "code",
   "execution_count": 21,
   "id": "fa755949",
   "metadata": {},
   "outputs": [
    {
     "name": "stdout",
     "output_type": "stream",
     "text": [
      "-12\n",
      "-12\n"
     ]
    }
   ],
   "source": [
    "x = int(input())\n",
    "print(x)"
   ]
  },
  {
   "cell_type": "code",
   "execution_count": null,
   "id": "ea939708",
   "metadata": {},
   "outputs": [],
   "source": []
  }
 ],
 "metadata": {
  "kernelspec": {
   "display_name": "Python 3 (ipykernel)",
   "language": "python",
   "name": "python3"
  },
  "language_info": {
   "codemirror_mode": {
    "name": "ipython",
    "version": 3
   },
   "file_extension": ".py",
   "mimetype": "text/x-python",
   "name": "python",
   "nbconvert_exporter": "python",
   "pygments_lexer": "ipython3",
   "version": "3.11.5"
  }
 },
 "nbformat": 4,
 "nbformat_minor": 5
}
