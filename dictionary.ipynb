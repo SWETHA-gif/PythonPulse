{
 "cells": [
  {
   "cell_type": "code",
   "execution_count": 1,
   "id": "e99144eb",
   "metadata": {},
   "outputs": [
    {
     "name": "stdout",
     "output_type": "stream",
     "text": [
      "{'sow ': 21, 'swe ': 22, 'suvi ': 23}\n"
     ]
    }
   ],
   "source": [
    "#DICTIONARY\n",
    "\n",
    "# KEY AND VALUE PAIRS ,\n",
    "#Dictionaries are changeable, meaning that we can change, add or remove items after the dictionary has been created.\n",
    "#Dictionaries cannot have two items with the same key:\n",
    "\n",
    "name = { \"sow \": 21 , \"swe \": 22 , \"suvi \" : 23 }\n",
    "print(name)"
   ]
  },
  {
   "cell_type": "code",
   "execution_count": 3,
   "id": "5da11be2",
   "metadata": {},
   "outputs": [
    {
     "name": "stdout",
     "output_type": "stream",
     "text": [
      "{'choc': ['fivestart', 'neck'], 'makeup': 'brush', 'pen': 'blue', 'panNumber': 799416245427, 'note': ['long', 'short']}\n"
     ]
    }
   ],
   "source": [
    "fav = {\"choc\" : [\"fivestart\" , \"neck\"] , \"makeup\" : \"brush\" , \"pen\" : \"blue\" , \"panNumber\" : 799416245427 , \n",
    "      \"note\" : [\"long\" , \"short\"] }\n",
    "print(fav)"
   ]
  },
  {
   "cell_type": "code",
   "execution_count": 8,
   "id": "221ee968",
   "metadata": {},
   "outputs": [
    {
     "name": "stdout",
     "output_type": "stream",
     "text": [
      "{'name': 'John', 'age': 36, 'country': 'Norway'}\n"
     ]
    }
   ],
   "source": [
    "#method \n",
    "\n",
    "thisdict = dict(name = \"John\", age = 36, country = \"Norway\")\n",
    "print(thisdict)"
   ]
  },
  {
   "cell_type": "code",
   "execution_count": 9,
   "id": "4eba81e3",
   "metadata": {},
   "outputs": [
    {
     "name": "stdout",
     "output_type": "stream",
     "text": [
      "{'name': 'rit', 'student': 'jk', 'dept': 'cse', 'no_due': 'not_clear', 'roll_num': 147}\n"
     ]
    }
   ],
   "source": [
    "clg = {\n",
    "     \"name\" : \"rit\" , \n",
    "     \"student\" : \"jk\",\n",
    "    \"dept\" : \"cse\" , \n",
    "    \"no_due\" : \"not_clear\",\n",
    "    \"roll_num\" : 147 \n",
    "}\n",
    "\n",
    "print(clg)"
   ]
  },
  {
   "cell_type": "code",
   "execution_count": 10,
   "id": "075d8601",
   "metadata": {},
   "outputs": [
    {
     "name": "stdout",
     "output_type": "stream",
     "text": [
      "rit\n"
     ]
    }
   ],
   "source": [
    "print(clg[\"name\"])"
   ]
  },
  {
   "cell_type": "code",
   "execution_count": 12,
   "id": "c9228871",
   "metadata": {},
   "outputs": [
    {
     "name": "stdout",
     "output_type": "stream",
     "text": [
      "dict_keys(['name', 'student', 'dept', 'no_due', 'roll_num'])\n"
     ]
    }
   ],
   "source": [
    "print(clg.keys())"
   ]
  },
  {
   "cell_type": "code",
   "execution_count": 13,
   "id": "8305f357",
   "metadata": {},
   "outputs": [
    {
     "name": "stdout",
     "output_type": "stream",
     "text": [
      "dict_values(['rit', 'jk', 'cse', 'not_clear', 147])\n"
     ]
    }
   ],
   "source": [
    "print(clg.values())"
   ]
  },
  {
   "cell_type": "code",
   "execution_count": 14,
   "id": "433d5d8a",
   "metadata": {},
   "outputs": [
    {
     "name": "stdout",
     "output_type": "stream",
     "text": [
      "{'name': 'rit', 'student': 'jk', 'dept': 'cse', 'no_due': 'not_clear', 'roll_num': 148}\n"
     ]
    }
   ],
   "source": [
    "clg = {\n",
    "     \"name\" : \"rit\" , \n",
    "     \"student\" : \"jk\",\n",
    "    \"dept\" : \"cse\" , \n",
    "    \"no_due\" : \"not_clear\",\n",
    "    \"roll_num\" : 147 , \n",
    "    \"roll_num\" : 148\n",
    "}\n",
    "print(clg)"
   ]
  },
  {
   "cell_type": "code",
   "execution_count": 15,
   "id": "a208b155",
   "metadata": {},
   "outputs": [
    {
     "name": "stdout",
     "output_type": "stream",
     "text": [
      "{'name': 'rit', 'student': 'jk', 'dept': 'cse', 'no_due': 'not_clear', 'roll_num': 147}\n"
     ]
    }
   ],
   "source": [
    "clg = {\n",
    "     \"name\" : \"rit\" , \n",
    "     \"student\" : \"jk\",\n",
    "    \"dept\" : \"cse\" , \n",
    "    \"no_due\" : \"not_clear\",\n",
    "    \"roll_num\" : 147 \n",
    "}\n",
    "print(clg)"
   ]
  },
  {
   "cell_type": "code",
   "execution_count": 21,
   "id": "8f92e835",
   "metadata": {},
   "outputs": [
    {
     "name": "stdout",
     "output_type": "stream",
     "text": [
      "not_clear\n"
     ]
    }
   ],
   "source": [
    "print(clg.get(\"no_due\"))"
   ]
  },
  {
   "cell_type": "code",
   "execution_count": 22,
   "id": "ae6510a1",
   "metadata": {},
   "outputs": [
    {
     "name": "stdout",
     "output_type": "stream",
     "text": [
      "{'name': 'rit', 'student': 'jk', 'dept': 'cse', 'no_due': 'not_clear', 'roll_num': 147, 'prand': 'sow'}\n"
     ]
    }
   ],
   "source": [
    "clg[\"prand\"] = \"sow\"\n",
    "print(clg)"
   ]
  },
  {
   "cell_type": "code",
   "execution_count": 23,
   "id": "48a351b9",
   "metadata": {},
   "outputs": [
    {
     "name": "stdout",
     "output_type": "stream",
     "text": [
      "dict_items([('name', 'rit'), ('student', 'jk'), ('dept', 'cse'), ('no_due', 'not_clear'), ('roll_num', 147), ('prand', 'sow')])\n"
     ]
    }
   ],
   "source": [
    "print(clg.items())"
   ]
  },
  {
   "cell_type": "code",
   "execution_count": 24,
   "id": "ac605de0",
   "metadata": {},
   "outputs": [
    {
     "name": "stdout",
     "output_type": "stream",
     "text": [
      "cse uh waste bro\n"
     ]
    }
   ],
   "source": [
    "if \"dept\" in clg:\n",
    "    print(\"cse uh waste bro\")\n",
    "else:\n",
    "    print(\"clg waste tha bro\")"
   ]
  },
  {
   "cell_type": "code",
   "execution_count": 25,
   "id": "563c0877",
   "metadata": {},
   "outputs": [
    {
     "name": "stdout",
     "output_type": "stream",
     "text": [
      "clg waste tha bro\n"
     ]
    }
   ],
   "source": [
    "if \"fun\" in clg:\n",
    "    print(\"cse uh waste bro\")\n",
    "else:\n",
    "    print(\"clg waste tha bro\")"
   ]
  },
  {
   "cell_type": "code",
   "execution_count": 26,
   "id": "83a66f39",
   "metadata": {},
   "outputs": [
    {
     "name": "stdout",
     "output_type": "stream",
     "text": [
      "{'name': 'rit', 'student': 'jk', 'dept': 'cse', 'no_due': 'clear', 'roll_num': 147, 'prand': 'sow'}\n"
     ]
    }
   ],
   "source": [
    "clg[\"no_due\"] = \"clear\"\n",
    "print(clg)"
   ]
  },
  {
   "cell_type": "code",
   "execution_count": 28,
   "id": "a4e2585b",
   "metadata": {},
   "outputs": [
    {
     "name": "stdout",
     "output_type": "stream",
     "text": [
      "{'name': 'rit', 'student': 'jk', 'dept': 'cse', 'no_due': 'not_clear', 'roll_num': 147, 'prand': 'sow'}\n"
     ]
    }
   ],
   "source": [
    "clg.update({\"no_due\" : \"not_clear\"})\n",
    "print(clg)"
   ]
  },
  {
   "cell_type": "code",
   "execution_count": 29,
   "id": "f73e91a3",
   "metadata": {},
   "outputs": [
    {
     "name": "stdout",
     "output_type": "stream",
     "text": [
      "{'name': 'rit', 'student': 'jk', 'dept': 'cse', 'no_due': 'not_clear', 'prand': 'sow'}\n"
     ]
    }
   ],
   "source": [
    "clg.pop(\"roll_num\")\n",
    "print(clg)"
   ]
  },
  {
   "cell_type": "code",
   "execution_count": 32,
   "id": "16b85b9e",
   "metadata": {},
   "outputs": [
    {
     "name": "stdout",
     "output_type": "stream",
     "text": [
      "{'name': 'rit', 'student': 'jk', 'dept': 'cse', 'no_due': 'not_clear', 'roll_num': 147}\n"
     ]
    }
   ],
   "source": [
    "clg = {\n",
    "     \"name\" : \"rit\" , \n",
    "     \"student\" : \"jk\",\n",
    "    \"dept\" : \"cse\" , \n",
    "    \"no_due\" : \"not_clear\",\n",
    "    \"roll_num\" : 147 \n",
    "}\n",
    "print(clg)"
   ]
  },
  {
   "cell_type": "code",
   "execution_count": 33,
   "id": "7fe3b947",
   "metadata": {},
   "outputs": [
    {
     "ename": "NameError",
     "evalue": "name 'clg' is not defined",
     "output_type": "error",
     "traceback": [
      "\u001b[1;31m---------------------------------------------------------------------------\u001b[0m",
      "\u001b[1;31mNameError\u001b[0m                                 Traceback (most recent call last)",
      "Input \u001b[1;32mIn [33]\u001b[0m, in \u001b[0;36m<cell line: 2>\u001b[1;34m()\u001b[0m\n\u001b[0;32m      1\u001b[0m \u001b[38;5;28;01mdel\u001b[39;00m clg\n\u001b[1;32m----> 2\u001b[0m \u001b[38;5;28mprint\u001b[39m(\u001b[43mclg\u001b[49m)\n",
      "\u001b[1;31mNameError\u001b[0m: name 'clg' is not defined"
     ]
    }
   ],
   "source": [
    "del clg\n",
    "print(clg)"
   ]
  },
  {
   "cell_type": "code",
   "execution_count": 34,
   "id": "f41670bf",
   "metadata": {},
   "outputs": [
    {
     "ename": "NameError",
     "evalue": "name 'clg' is not defined",
     "output_type": "error",
     "traceback": [
      "\u001b[1;31m---------------------------------------------------------------------------\u001b[0m",
      "\u001b[1;31mNameError\u001b[0m                                 Traceback (most recent call last)",
      "Input \u001b[1;32mIn [34]\u001b[0m, in \u001b[0;36m<cell line: 1>\u001b[1;34m()\u001b[0m\n\u001b[1;32m----> 1\u001b[0m \u001b[38;5;28mprint\u001b[39m(\u001b[43mclg\u001b[49m)\n",
      "\u001b[1;31mNameError\u001b[0m: name 'clg' is not defined"
     ]
    }
   ],
   "source": [
    "# we have deleted the entire dictionary  above \n",
    "\n",
    "print(clg)"
   ]
  },
  {
   "cell_type": "code",
   "execution_count": 35,
   "id": "d484020e",
   "metadata": {},
   "outputs": [
    {
     "name": "stdout",
     "output_type": "stream",
     "text": [
      "{'name': 'rit', 'student': 'jk', 'dept': 'cse', 'no_due': 'not_clear', 'roll_num': 147}\n"
     ]
    }
   ],
   "source": [
    "clg = {\n",
    "     \"name\" : \"rit\" , \n",
    "     \"student\" : \"jk\",\n",
    "    \"dept\" : \"cse\" , \n",
    "    \"no_due\" : \"not_clear\",\n",
    "    \"roll_num\" : 147 \n",
    "}\n",
    "print(clg)"
   ]
  },
  {
   "cell_type": "code",
   "execution_count": 36,
   "id": "201b1ee0",
   "metadata": {},
   "outputs": [
    {
     "name": "stdout",
     "output_type": "stream",
     "text": [
      "{}\n"
     ]
    }
   ],
   "source": [
    "clg.clear()\n",
    "print(clg)"
   ]
  },
  {
   "cell_type": "code",
   "execution_count": 37,
   "id": "98b1679e",
   "metadata": {},
   "outputs": [
    {
     "name": "stdout",
     "output_type": "stream",
     "text": [
      "{'name': 'rit', 'student': 'jk', 'dept': 'cse', 'no_due': 'not_clear', 'roll_num': 147}\n"
     ]
    }
   ],
   "source": [
    "clg = {\n",
    "     \"name\" : \"rit\" , \n",
    "     \"student\" : \"jk\",\n",
    "    \"dept\" : \"cse\" , \n",
    "    \"no_due\" : \"not_clear\",\n",
    "    \"roll_num\" : 147 \n",
    "}\n",
    "print(clg)"
   ]
  },
  {
   "cell_type": "code",
   "execution_count": 38,
   "id": "b1941d60",
   "metadata": {},
   "outputs": [
    {
     "name": "stdout",
     "output_type": "stream",
     "text": [
      "name\n",
      "student\n",
      "dept\n",
      "no_due\n",
      "roll_num\n"
     ]
    }
   ],
   "source": [
    "for i in clg:\n",
    "    print(i)"
   ]
  },
  {
   "cell_type": "code",
   "execution_count": 39,
   "id": "fa0e14f6",
   "metadata": {},
   "outputs": [
    {
     "name": "stdout",
     "output_type": "stream",
     "text": [
      "name\n",
      "student\n",
      "dept\n",
      "no_due\n",
      "roll_num\n"
     ]
    }
   ],
   "source": [
    "for x in clg.keys():\n",
    "    print(x)"
   ]
  },
  {
   "cell_type": "code",
   "execution_count": 40,
   "id": "5e8eb703",
   "metadata": {},
   "outputs": [
    {
     "name": "stdout",
     "output_type": "stream",
     "text": [
      "rit\n",
      "jk\n",
      "cse\n",
      "not_clear\n",
      "147\n"
     ]
    }
   ],
   "source": [
    "for y in clg.values():\n",
    "    print(y)"
   ]
  },
  {
   "cell_type": "code",
   "execution_count": 42,
   "id": "58c1afe2",
   "metadata": {},
   "outputs": [
    {
     "name": "stdout",
     "output_type": "stream",
     "text": [
      "('name', 'rit')\n",
      "('student', 'jk')\n",
      "('dept', 'cse')\n",
      "('no_due', 'not_clear')\n",
      "('roll_num', 147)\n"
     ]
    }
   ],
   "source": [
    "for z in clg.items():\n",
    "    print(z)"
   ]
  },
  {
   "cell_type": "code",
   "execution_count": null,
   "id": "6d0a7822",
   "metadata": {},
   "outputs": [],
   "source": []
  }
 ],
 "metadata": {
  "kernelspec": {
   "display_name": "Python 3 (ipykernel)",
   "language": "python",
   "name": "python3"
  },
  "language_info": {
   "codemirror_mode": {
    "name": "ipython",
    "version": 3
   },
   "file_extension": ".py",
   "mimetype": "text/x-python",
   "name": "python",
   "nbconvert_exporter": "python",
   "pygments_lexer": "ipython3",
   "version": "3.11.5"
  }
 },
 "nbformat": 4,
 "nbformat_minor": 5
}
