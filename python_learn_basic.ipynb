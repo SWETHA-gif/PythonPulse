{
 "cells": [
  {
   "cell_type": "code",
   "execution_count": 29,
   "id": "63ab53a2",
   "metadata": {},
   "outputs": [
    {
     "name": "stdout",
     "output_type": "stream",
     "text": [
      "true\n",
      "false\n"
     ]
    }
   ],
   "source": [
    "def num(n1):\n",
    "    org = n1\n",
    "    rev = 0\n",
    "    while n1>0:\n",
    "        rem = n1%10\n",
    "        rev = (rev*10) + rem\n",
    "        n1 = n1//10\n",
    "    if org == rev:\n",
    "        print(\"true\")\n",
    "    else:\n",
    "        print(\"false\")\n",
    "num(121)\n",
    "num(1232)"
   ]
  },
  {
   "cell_type": "code",
   "execution_count": 3,
   "id": "ee93b0b9",
   "metadata": {},
   "outputs": [
    {
     "name": "stdout",
     "output_type": "stream",
     "text": [
      "9\n",
      "<class 'str'>\n"
     ]
    }
   ],
   "source": [
    "s = 9\n",
    "x = str(s)\n",
    "print(x)\n",
    "print(type(x))"
   ]
  },
  {
   "cell_type": "code",
   "execution_count": 6,
   "id": "ee7ee46a",
   "metadata": {},
   "outputs": [
    {
     "name": "stdout",
     "output_type": "stream",
     "text": [
      "enter:5\n",
      "enter:44.44\n",
      "enter:44.56\n",
      "enter:55.5\n",
      "enter:23.65\n",
      "enter:23.23\n",
      "[44.44, 44.56, 55.5, 23.65, 23.23]\n"
     ]
    }
   ],
   "source": [
    "n = int(input(\"enter:\"))\n",
    "l = []\n",
    "for i in range(n):\n",
    "    num = float(input(\"enter:\"))\n",
    "    l.append(num)\n",
    "print(l)"
   ]
  },
  {
   "cell_type": "code",
   "execution_count": 12,
   "id": "4116a3f8",
   "metadata": {},
   "outputs": [
    {
     "name": "stdout",
     "output_type": "stream",
     "text": [
      "enter:2\n",
      "enter:22\n",
      "enter:222\n",
      "[22.0, 222.0]\n"
     ]
    }
   ],
   "source": [
    "n = int(input(\"enter:\"))\n",
    "l = []\n",
    "for i in range(n):\n",
    "    num = float(input(\"enter:\"))\n",
    "    l.append(num)\n",
    "print(l)"
   ]
  },
  {
   "cell_type": "code",
   "execution_count": 18,
   "id": "7d08b8db",
   "metadata": {},
   "outputs": [
    {
     "name": "stdout",
     "output_type": "stream",
     "text": [
      "\n",
      "\n",
      "1\n",
      "\n",
      "22\n",
      "\n",
      "333\n",
      "\n",
      "4444\n",
      "\n"
     ]
    }
   ],
   "source": [
    "for i in range(5):\n",
    "    for j in range(i):\n",
    "        print(i,end=\"\")\n",
    "    print(\"\\n\")"
   ]
  },
  {
   "cell_type": "code",
   "execution_count": 19,
   "id": "540ae4df",
   "metadata": {},
   "outputs": [
    {
     "name": "stdout",
     "output_type": "stream",
     "text": [
      "12345678910\t\t\n",
      "2468101214161820\t\t\n",
      "36912151821242730\t\t\n",
      "481216202428323640\t\t\n",
      "5101520253035404550\t\t\n",
      "6121824303642485460\t\t\n",
      "7142128354249566370\t\t\n",
      "8162432404856647280\t\t\n",
      "9182736455463728190\t\t\n",
      "102030405060708090100\t\t\n"
     ]
    }
   ],
   "source": [
    "for i in range(1,11):\n",
    "    for j in range(1,11):\n",
    "        print(i*j,end=\"\")\n",
    "    print(\"\\t\\t\")"
   ]
  },
  {
   "cell_type": "code",
   "execution_count": 21,
   "id": "4ab4f83f",
   "metadata": {},
   "outputs": [
    {
     "name": "stdout",
     "output_type": "stream",
     "text": [
      "\n",
      "\n",
      "*\n",
      "\n",
      "**\n",
      "\n",
      "***\n",
      "\n",
      "****\n",
      "\n"
     ]
    }
   ],
   "source": [
    "for i in range(5):\n",
    "    for j in range(i):\n",
    "        print(\"*\",end=\"\")\n",
    "    print(\"\\n\")"
   ]
  },
  {
   "cell_type": "code",
   "execution_count": 31,
   "id": "02427ec4",
   "metadata": {},
   "outputs": [
    {
     "name": "stdout",
     "output_type": "stream",
     "text": [
      "****\n",
      "\n",
      "***\n",
      "\n",
      "**\n",
      "\n",
      "*\n",
      "\n",
      "\n",
      "\n"
     ]
    }
   ],
   "source": [
    "for i in range(5,0,-1):\n",
    "    for j in range(0,i-1):\n",
    "        print(\"*\",end=\"\")\n",
    "    print(\"\\n\")"
   ]
  },
  {
   "cell_type": "code",
   "execution_count": 32,
   "id": "d4196a42",
   "metadata": {},
   "outputs": [
    {
     "name": "stdout",
     "output_type": "stream",
     "text": [
      "1\n",
      "\n",
      "12\n",
      "\n",
      "123\n",
      "\n",
      "1234\n",
      "\n"
     ]
    }
   ],
   "source": [
    "r = 4\n",
    "for i in range(1,r+1,1):\n",
    "    for j in range(1,i+1):\n",
    "        print(j,end=\"\")\n",
    "    print(\"\\n\")"
   ]
  },
  {
   "cell_type": "code",
   "execution_count": 1,
   "id": "e1465313",
   "metadata": {},
   "outputs": [
    {
     "name": "stdout",
     "output_type": "stream",
     "text": [
      "5\n",
      "\n",
      "\n",
      "15\n"
     ]
    }
   ],
   "source": [
    "s = 0\n",
    "n=int(input())\n",
    "for i in range(1,n+1,1):\n",
    "    s +=i\n",
    "print('\\n')\n",
    "print(s)\n"
   ]
  },
  {
   "cell_type": "code",
   "execution_count": null,
   "id": "1ea008e5",
   "metadata": {},
   "outputs": [],
   "source": []
  },
  {
   "cell_type": "markdown",
   "id": "e9e9aac7",
   "metadata": {},
   "source": [
    "1+2+3+4"
   ]
  },
  {
   "cell_type": "code",
   "execution_count": 9,
   "id": "5e7adec8",
   "metadata": {},
   "outputs": [
    {
     "name": "stdout",
     "output_type": "stream",
     "text": [
      "enter:4\n",
      "10\n"
     ]
    }
   ],
   "source": [
    "s = 0\n",
    "num = int(input(\"enter:\"))\n",
    "for i in range(1,num+1,1):\n",
    "    s+=i\n",
    "print(s)"
   ]
  },
  {
   "cell_type": "code",
   "execution_count": 10,
   "id": "e171e7fd",
   "metadata": {},
   "outputs": [
    {
     "name": "stdout",
     "output_type": "stream",
     "text": [
      "enter:4\n",
      "enter:22.33\n",
      "enter:12\n",
      "enter:14.55\n",
      "enter:33.33\n",
      "[22.33, 12.0, 14.55, 33.33]\n"
     ]
    }
   ],
   "source": [
    "rep = int(input(\"enter:\"))\n",
    "lit = []\n",
    "for i in range(rep):\n",
    "    s = float(input(\"enter:\"))\n",
    "    lit.append(s)\n",
    "print(lit)"
   ]
  },
  {
   "cell_type": "code",
   "execution_count": 20,
   "id": "4d2ab150",
   "metadata": {},
   "outputs": [
    {
     "name": "stdout",
     "output_type": "stream",
     "text": [
      "75\n",
      "150\n",
      "145\n"
     ]
    }
   ],
   "source": [
    "lit = [12, 75, 150, 180, 145, 525, 50]\n",
    "for i in lit:\n",
    "    if i > 500:\n",
    "        break\n",
    "    elif i > 150:\n",
    "        continue\n",
    "    elif i %5 == 0:\n",
    "        print(i)\n"
   ]
  },
  {
   "cell_type": "code",
   "execution_count": 18,
   "id": "2d59dbcd",
   "metadata": {},
   "outputs": [
    {
     "name": "stdout",
     "output_type": "stream",
     "text": [
      "75\n",
      "150\n",
      "145\n"
     ]
    }
   ],
   "source": [
    "numbers = [12, 75, 150, 180, 145, 525, 50]\n",
    "# iterate each item of a list\n",
    "for item in numbers:\n",
    "    if item > 500:\n",
    "        break\n",
    "    elif item > 150:\n",
    "        continue\n",
    "    # check if number is divisible by 5\n",
    "    elif item % 5 == 0:\n",
    "        print(item)"
   ]
  },
  {
   "cell_type": "code",
   "execution_count": 11,
   "id": "61a8c763",
   "metadata": {},
   "outputs": [
    {
     "name": "stdout",
     "output_type": "stream",
     "text": [
      "1\n",
      "\n",
      "12\n",
      "\n",
      "123\n",
      "\n",
      "1234\n",
      "\n",
      "12345\n",
      "\n"
     ]
    }
   ],
   "source": [
    "r = 5\n",
    "for i in range(1,r+1,1):\n",
    "    for j in range(1,i+1):\n",
    "        print(j,end=\"\")\n",
    "    print(\"\\n\")"
   ]
  },
  {
   "cell_type": "code",
   "execution_count": 16,
   "id": "4d30f097",
   "metadata": {},
   "outputs": [
    {
     "name": "stdout",
     "output_type": "stream",
     "text": [
      "*****\n",
      "\n",
      "****\n",
      "\n",
      "***\n",
      "\n",
      "**\n",
      "\n",
      "*\n",
      "\n",
      "\n",
      "\n"
     ]
    }
   ],
   "source": [
    "for i in range(6,0,-1):\n",
    "    for j in range(0,i-1):\n",
    "        print(\"*\",end=\"\")\n",
    "    print(\"\\n\")"
   ]
  },
  {
   "cell_type": "code",
   "execution_count": 106,
   "id": "11766918",
   "metadata": {},
   "outputs": [
    {
     "name": "stdout",
     "output_type": "stream",
     "text": [
      "*\r\n",
      "**\r\n",
      "***\r\n",
      "****\r\n",
      "*****\r\n",
      "******\r\n",
      "*******\r\n",
      "******\r\n",
      "*****\r\n",
      "****\r\n",
      "***\r\n",
      "**\r\n",
      "*\r\n",
      "\r\n"
     ]
    }
   ],
   "source": [
    "r =7\n",
    "for i in range(r):\n",
    "    for j in range(0,i+1):\n",
    "        print(\"*\",end=\"\")\n",
    "    print(\"\\r\")\n",
    "for i in range(r,0,-1):\n",
    "    for j in range(0,i-1):\n",
    "        print(\"*\",end=\"\")\n",
    "    print(\"\\r\")"
   ]
  },
  {
   "cell_type": "code",
   "execution_count": 105,
   "id": "aad509e7",
   "metadata": {},
   "outputs": [
    {
     "name": "stdout",
     "output_type": "stream",
     "text": [
      "0123456\n",
      "\n",
      "012345\n",
      "\n"
     ]
    }
   ],
   "source": [
    "n = 8\n",
    "for i in range(n,6,-1):\n",
    "    for j in range(0,i-1):\n",
    "        print(j,end=\"\")\n",
    "    print(\"\\n\")"
   ]
  },
  {
   "cell_type": "code",
   "execution_count": 27,
   "id": "fd20f856",
   "metadata": {},
   "outputs": [],
   "source": [
    "def exponent(base, exp):  # (3,4)\n",
    "    result = 1  #3\n",
    "    while exp > 0:\n",
    "        result = result * base  #re = 1*3 = 3       #3*3*3*3\n",
    "        exp = exp - 1   # 1\n",
    "    print(result)\n",
    "\n",
    "exponent(5, 4)"
   ]
  },
  {
   "cell_type": "code",
   "execution_count": 28,
   "id": "510730a4",
   "metadata": {},
   "outputs": [
    {
     "name": "stdout",
     "output_type": "stream",
     "text": [
      "<class 'int'>\n"
     ]
    }
   ],
   "source": [
    "print(type(0xFF))"
   ]
  },
  {
   "cell_type": "code",
   "execution_count": 29,
   "id": "6343d05c",
   "metadata": {},
   "outputs": [
    {
     "name": "stdout",
     "output_type": "stream",
     "text": [
      "False True True True\n"
     ]
    }
   ],
   "source": [
    "print(bool(0), bool(3.14159), bool(-3), bool(1.0+1j))"
   ]
  },
  {
   "cell_type": "code",
   "execution_count": 33,
   "id": "95c6abfe",
   "metadata": {},
   "outputs": [
    {
     "name": "stdout",
     "output_type": "stream",
     "text": [
      "20\n"
     ]
    }
   ],
   "source": [
    "x = 50\n",
    "def fun1():\n",
    "    # your code to assign global x = 20\n",
    "    global x\n",
    "    x = 20\n",
    "\n",
    "\n",
    "fun1()\n",
    "print(x) # it should print 20"
   ]
  },
  {
   "cell_type": "code",
   "execution_count": 34,
   "id": "498c5ce0",
   "metadata": {},
   "outputs": [
    {
     "name": "stdout",
     "output_type": "stream",
     "text": [
      "False\n"
     ]
    }
   ],
   "source": [
    "print(type({}) is set)"
   ]
  },
  {
   "cell_type": "code",
   "execution_count": 35,
   "id": "60ac7989",
   "metadata": {},
   "outputs": [
    {
     "data": {
      "text/plain": [
       "range"
      ]
     },
     "execution_count": 35,
     "metadata": {},
     "output_type": "execute_result"
    }
   ],
   "source": [
    "type(range(5))"
   ]
  },
  {
   "cell_type": "code",
   "execution_count": 36,
   "id": "5e4faff9",
   "metadata": {},
   "outputs": [
    {
     "name": "stdout",
     "output_type": "stream",
     "text": [
      "True\n"
     ]
    }
   ],
   "source": [
    "print(type([]) is list)"
   ]
  },
  {
   "cell_type": "code",
   "execution_count": 37,
   "id": "73fff652",
   "metadata": {},
   "outputs": [
    {
     "name": "stdout",
     "output_type": "stream",
     "text": [
      "20\n"
     ]
    }
   ],
   "source": [
    "def func1():\n",
    "    x = 50\n",
    "    return x\n",
    "func1()\n",
    "print(x)"
   ]
  },
  {
   "cell_type": "code",
   "execution_count": 40,
   "id": "dd0658a2",
   "metadata": {},
   "outputs": [
    {
     "name": "stdout",
     "output_type": "stream",
     "text": [
      "20\n"
     ]
    }
   ],
   "source": [
    "def func():\n",
    "    x = 50\n",
    "    return x\n",
    "func()\n",
    "print(x)"
   ]
  },
  {
   "cell_type": "code",
   "execution_count": 1,
   "id": "2648569e",
   "metadata": {},
   "outputs": [
    {
     "name": "stdout",
     "output_type": "stream",
     "text": [
      "enter:657687\n",
      "6\n"
     ]
    }
   ],
   "source": [
    "num = int(input(\"enter:\"))\n",
    "cou = 0\n",
    "while num!= 0:\n",
    "    num = num // 10\n",
    "    cou = cou +1\n",
    "print(cou)\n",
    "    "
   ]
  },
  {
   "cell_type": "code",
   "execution_count": 8,
   "id": "7bbdf757",
   "metadata": {},
   "outputs": [
    {
     "name": "stdout",
     "output_type": "stream",
     "text": [
      "54321\n",
      "\n",
      "4321\n",
      "\n",
      "321\n",
      "\n",
      "21\n",
      "\n",
      "1\n",
      "\n",
      "\n",
      "\n"
     ]
    }
   ],
   "source": [
    "n = 5\n",
    "s = 5\n",
    "for i in range(0,n+1):\n",
    "    for j in range(s-i,0,-1):\n",
    "        print(j,end=\"\")\n",
    "    print(\"\\n\")"
   ]
  },
  {
   "cell_type": "code",
   "execution_count": 9,
   "id": "d178dd61",
   "metadata": {},
   "outputs": [
    {
     "name": "stdout",
     "output_type": "stream",
     "text": [
      "50\n",
      "40\n",
      "30\n",
      "20\n",
      "10\n"
     ]
    }
   ],
   "source": [
    "list1 = [10, 20, 30, 40, 50]\n",
    "lit = reversed(list1)\n",
    "for i in lit:\n",
    "    print(i)"
   ]
  },
  {
   "cell_type": "code",
   "execution_count": 10,
   "id": "d35be3ed",
   "metadata": {},
   "outputs": [
    {
     "name": "stdout",
     "output_type": "stream",
     "text": [
      "-10\n",
      "-9\n",
      "-8\n",
      "-7\n",
      "-6\n",
      "-5\n",
      "-4\n",
      "-3\n",
      "-2\n",
      "-1\n"
     ]
    }
   ],
   "source": [
    "for i in range(-10,0,1):\n",
    "    print(i)"
   ]
  },
  {
   "cell_type": "code",
   "execution_count": 12,
   "id": "1416ef38",
   "metadata": {},
   "outputs": [
    {
     "name": "stdout",
     "output_type": "stream",
     "text": [
      "0\n",
      "1\n",
      "2\n",
      "3\n",
      "4\n",
      "Done!\n"
     ]
    }
   ],
   "source": [
    "for i in range(5):\n",
    "    print(i)\n",
    "else:\n",
    "    print(\"Done!\")"
   ]
  },
  {
   "cell_type": "code",
   "execution_count": 18,
   "id": "4c5a573d",
   "metadata": {},
   "outputs": [
    {
     "name": "stdout",
     "output_type": "stream",
     "text": [
      "1\n",
      "2\n",
      "3\n",
      "5\n",
      "7\n",
      "11\n",
      "13\n",
      "17\n",
      "19\n",
      "23\n",
      "29\n",
      "31\n",
      "37\n",
      "41\n",
      "43\n",
      "47\n"
     ]
    }
   ],
   "source": [
    "s = 1\n",
    "e = 50\n",
    "for i in range(s,e+1):\n",
    "    if i >0:\n",
    "        for j in range(2,i):\n",
    "            if (i%j) == 0:\n",
    "                break\n",
    "        else:\n",
    "            print(i)"
   ]
  },
  {
   "cell_type": "code",
   "execution_count": 22,
   "id": "3c83b81b",
   "metadata": {},
   "outputs": [
    {
     "name": "stdout",
     "output_type": "stream",
     "text": [
      "0 1 1 2 3 5 8 13 21 34 "
     ]
    }
   ],
   "source": [
    "n1 = 0\n",
    "n2 = 1\n",
    "for i in range(10):\n",
    "    print(n1,end=\" \")\n",
    "    num = n1+n2\n",
    "    \n",
    "    n1=n2\n",
    "    n2=num\n",
    "    \n",
    "    \n",
    "                "
   ]
  },
  {
   "cell_type": "code",
   "execution_count": 24,
   "id": "91389ec6",
   "metadata": {},
   "outputs": [
    {
     "name": "stdout",
     "output_type": "stream",
     "text": [
      "120\n"
     ]
    }
   ],
   "source": [
    "num = 5\n",
    "fact = 1\n",
    "for i in range(1,num+1,1):\n",
    "    fact = fact*i\n",
    "print(fact)"
   ]
  },
  {
   "cell_type": "code",
   "execution_count": 31,
   "id": "c65dde00",
   "metadata": {},
   "outputs": [
    {
     "name": "stdout",
     "output_type": "stream",
     "text": [
      "true\n"
     ]
    }
   ],
   "source": [
    "def pp(n1):\n",
    "    original = n1\n",
    "    rev = 0\n",
    "    while n1>0:\n",
    "        rem = n1%10\n",
    "        rev = (rev*10) + rem\n",
    "        n1 = n1//10   \n",
    "    if original == rev:\n",
    "        print(\"true\")\n",
    "    else:\n",
    "        print(\"false\")\n",
    "pp(121)"
   ]
  },
  {
   "cell_type": "code",
   "execution_count": 32,
   "id": "3019f98e",
   "metadata": {},
   "outputs": [
    {
     "name": "stdout",
     "output_type": "stream",
     "text": [
      "54321\n"
     ]
    }
   ],
   "source": [
    "def pb(num):\n",
    "    rev = 0\n",
    "    while num>0:\n",
    "        rem = num %10\n",
    "        rev = (rev*10) + rem\n",
    "        num = num // 10\n",
    "    print(rev)\n",
    "pb(12345)"
   ]
  },
  {
   "cell_type": "code",
   "execution_count": 42,
   "id": "be2c8c68",
   "metadata": {},
   "outputs": [
    {
     "name": "stdout",
     "output_type": "stream",
     "text": [
      "20  40  60  80  100  "
     ]
    }
   ],
   "source": [
    "lit = [10, 20, 30, 40, 50, 60, 70, 80, 90, 100]\n",
    "for i in lit[1::2]:\n",
    "    print(i,end=\"  \")\n",
    "    \n"
   ]
  },
  {
   "cell_type": "code",
   "execution_count": 51,
   "id": "abb21ed0",
   "metadata": {},
   "outputs": [
    {
     "name": "stdout",
     "output_type": "stream",
     "text": [
      "[10, 20, 40, 60, 70, 80, 100]\n"
     ]
    }
   ],
   "source": [
    "lit = [10, 20, 37, 40, 55, 60, 70, 80, 99, 100]\n",
    "l1 = []\n",
    "for i in lit:\n",
    "    if i %2 == 0:\n",
    "        l1.append(i)\n",
    "    else:\n",
    "        continue\n",
    "print(l1)\n",
    "\n",
    "              \n",
    "            "
   ]
  },
  {
   "cell_type": "code",
   "execution_count": 53,
   "id": "1a4e7c3e",
   "metadata": {},
   "outputs": [
    {
     "name": "stdout",
     "output_type": "stream",
     "text": [
      "1\n",
      "8\n",
      "27\n",
      "64\n",
      "125\n",
      "216\n",
      "343\n"
     ]
    }
   ],
   "source": [
    "s= 7\n",
    "for i in range(1,7+1):\n",
    "    print(i*i*i)"
   ]
  },
  {
   "cell_type": "code",
   "execution_count": 78,
   "id": "7fb9994d",
   "metadata": {},
   "outputs": [
    {
     "name": "stdout",
     "output_type": "stream",
     "text": [
      "2+  22+  222+  2222+  22222+  \n",
      "the series : 24690\n"
     ]
    }
   ],
   "source": [
    "n =5\n",
    "start = 2\n",
    "seq = 0\n",
    "for i in range(0,n):\n",
    "    print(start, end=\"+  \")\n",
    "    seq += start\n",
    "    start = start *10 +2\n",
    "print(\"\\nthe series :\",seq)"
   ]
  },
  {
   "cell_type": "code",
   "execution_count": 82,
   "id": "575a1728",
   "metadata": {},
   "outputs": [
    {
     "name": "stdout",
     "output_type": "stream",
     "text": [
      "Enter three strings separated by spaces: swe sow shi\n",
      "Name1: swe\n",
      "Name2: sow\n",
      "Name3: shi\n"
     ]
    }
   ],
   "source": [
    "input_string = input(\"Enter three strings separated by spaces: \")\n",
    "input_list = input_string.split()\n",
    "\n",
    "if len(input_list) == 3:\n",
    "    str1, str2, str3 = input_list\n",
    "    print('Name1:', str1)\n",
    "    print('Name2:', str2)\n",
    "    print('Name3:', str3)\n",
    "else:\n",
    "    print(\"Please enter exactly three strings separated by spaces.\")"
   ]
  },
  {
   "cell_type": "code",
   "execution_count": 87,
   "id": "bf8f68d4",
   "metadata": {},
   "outputs": [
    {
     "name": "stdout",
     "output_type": "stream",
     "text": [
      "*\r\n",
      "**\r\n",
      "***\r\n",
      "****\r\n",
      "*****\r\n",
      "****\r\n",
      "***\r\n",
      "**\r\n",
      "*\r\n",
      "\r\n"
     ]
    }
   ],
   "source": [
    "r = 5\n",
    "for i in range(0,r):\n",
    "    for j in range(0,i+1):\n",
    "        print(\"*\",end=\"\")\n",
    "    print(\"\\r\")\n",
    "for i in range(r,0,-1):\n",
    "    for j in range(0,i-1):\n",
    "        print(\"*\",end=\"\")\n",
    "    print(\"\\r\")"
   ]
  },
  {
   "cell_type": "code",
   "execution_count": 102,
   "id": "f8f62e0d",
   "metadata": {},
   "outputs": [
    {
     "name": "stdout",
     "output_type": "stream",
     "text": [
      "&&&&&\n",
      "\n",
      "&&&&\n",
      "\n",
      "&&&\n",
      "\n",
      "&&\n",
      "\n",
      "&\n",
      "\n",
      "\n",
      "\n"
     ]
    }
   ],
   "source": [
    "for i in range(6,0,-1):\n",
    "    for j in range(0,i-1):\n",
    "        print(\"&\",end=\"\")\n",
    "    print(\"\\n\")"
   ]
  },
  {
   "cell_type": "code",
   "execution_count": 107,
   "id": "d3c4f099",
   "metadata": {},
   "outputs": [
    {
     "name": "stdout",
     "output_type": "stream",
     "text": [
      "hello  swetha\n",
      "are you  22 years old?\n"
     ]
    }
   ],
   "source": [
    "def human(name,age):\n",
    "    print(\"hello \" ,name)\n",
    "    print(\"are you \",age, \"years old?\")\n",
    "human(\"swetha\",22)"
   ]
  },
  {
   "cell_type": "code",
   "execution_count": 110,
   "id": "49c1a2b9",
   "metadata": {},
   "outputs": [
    {
     "name": "stdout",
     "output_type": "stream",
     "text": [
      "6\n"
     ]
    }
   ],
   "source": [
    "def func1(name):\n",
    "    x = len(name)\n",
    "    print(x)\n",
    "func1(\"swetha\")"
   ]
  },
  {
   "cell_type": "code",
   "execution_count": 117,
   "id": "77e34909",
   "metadata": {},
   "outputs": [
    {
     "name": "stdout",
     "output_type": "stream",
     "text": [
      "11\n",
      "54\n",
      "99\n",
      "64\n",
      "32\n"
     ]
    }
   ],
   "source": [
    "def func1(*integer):\n",
    "    for i in integer:\n",
    "        print(i)\n",
    "func1(11,54,99)\n",
    "func1(64,32)"
   ]
  },
  {
   "cell_type": "code",
   "execution_count": 124,
   "id": "d4a0d57d",
   "metadata": {},
   "outputs": [
    {
     "name": "stdout",
     "output_type": "stream",
     "text": [
      "(50, 30)\n"
     ]
    }
   ],
   "source": [
    "def calculation(a, b):\n",
    "    # Your Code\n",
    "    return a+b,a-b\n",
    "\n",
    "res = calculation(40, 10)\n",
    "print(res)"
   ]
  },
  {
   "cell_type": "code",
   "execution_count": 126,
   "id": "be2ecd73",
   "metadata": {},
   "outputs": [
    {
     "name": "stdout",
     "output_type": "stream",
     "text": [
      "name: swe  sal: 10000000\n",
      "name: sow  sal: 11111111\n",
      "name: therila  sal: 9000\n"
     ]
    }
   ],
   "source": [
    "def showEmployee(name , sal = 9000):\n",
    "    print(\"name:\",name,\" sal:\",sal)\n",
    "showEmployee(\"swe\",10000000)\n",
    "showEmployee(\"sow\",11111111)\n",
    "showEmployee(\"therila\")\n"
   ]
  },
  {
   "cell_type": "code",
   "execution_count": 127,
   "id": "f5abd846",
   "metadata": {},
   "outputs": [
    {
     "name": "stdout",
     "output_type": "stream",
     "text": [
      "2\n"
     ]
    }
   ],
   "source": [
    "print(2%6)\n",
    "\n"
   ]
  },
  {
   "cell_type": "code",
   "execution_count": 2,
   "id": "952c5c67",
   "metadata": {},
   "outputs": [
    {
     "name": "stdout",
     "output_type": "stream",
     "text": [
      "20\n"
     ]
    }
   ],
   "source": [
    "def pet(a,b):\n",
    "    c= a**b\n",
    "    def eat(a,b):\n",
    "        return a+b\n",
    "    \n",
    "    add = eat(a,b)\n",
    "    return add+5\n",
    "res = pet(5,10)\n",
    "print(res)"
   ]
  },
  {
   "cell_type": "code",
   "execution_count": 1,
   "id": "bcf20b66",
   "metadata": {},
   "outputs": [
    {
     "name": "stdout",
     "output_type": "stream",
     "text": [
      "36\n"
     ]
    }
   ],
   "source": [
    "def tik(n):\n",
    "    if n:\n",
    "        return n + tik(n-1)\n",
    "    else:\n",
    "        return 0\n",
    "ret = tik(8)\n",
    "print(ret)"
   ]
  },
  {
   "cell_type": "code",
   "execution_count": 6,
   "id": "4e93411c",
   "metadata": {},
   "outputs": [
    {
     "name": "stdout",
     "output_type": "stream",
     "text": [
      "[4, 6, 8, 10, 12, 14, 16, 18, 20, 22, 24, 26, 28]\n"
     ]
    }
   ],
   "source": [
    "print(list(range(4,30,2)))"
   ]
  },
  {
   "cell_type": "code",
   "execution_count": 7,
   "id": "05869c5b",
   "metadata": {},
   "outputs": [
    {
     "name": "stdout",
     "output_type": "stream",
     "text": [
      "24\n"
     ]
    }
   ],
   "source": [
    "x = [4, 6, 8, 24, 12, 2]\n",
    "print(max(x))"
   ]
  },
  {
   "cell_type": "code",
   "execution_count": 2,
   "id": "c1a5679f",
   "metadata": {},
   "outputs": [
    {
     "name": "stdout",
     "output_type": "stream",
     "text": [
      "jms\n"
     ]
    }
   ],
   "source": [
    "st = \"james\"\n",
    "print(st[0::2])"
   ]
  },
  {
   "cell_type": "code",
   "execution_count": 3,
   "id": "56b3dc0a",
   "metadata": {},
   "outputs": [
    {
     "name": "stdout",
     "output_type": "stream",
     "text": [
      "jms\n"
     ]
    }
   ],
   "source": [
    "# get string of first , middle and last letter:\n",
    "st = \"james\"\n",
    "res = st[0]\n",
    "l = len(st)\n",
    "mid = int(l/2)\n",
    "res = res + st[mid]\n",
    "res = res + st[l -1]\n",
    "print(res)"
   ]
  },
  {
   "cell_type": "code",
   "execution_count": 20,
   "id": "0033bfb3",
   "metadata": {},
   "outputs": [
    {
     "name": "stdout",
     "output_type": "stream",
     "text": [
      "eth\n",
      "Son\n",
      "Dip\n"
     ]
    }
   ],
   "source": [
    "def word(string):\n",
    "    mid = int(len(string)/2)\n",
    "    res = string[mid-1:mid+2]\n",
    "    print(res)\n",
    "word(\"swethas\")\n",
    "word(\"JaSonAy\")\n",
    "word(\"JhonDipPeta\")"
   ]
  },
  {
   "cell_type": "code",
   "execution_count": 25,
   "id": "b0d44e15",
   "metadata": {},
   "outputs": [
    {
     "name": "stdout",
     "output_type": "stream",
     "text": [
      "AuKellylt\n"
     ]
    }
   ],
   "source": [
    "def word(s1,s2):\n",
    "    mid = int(len(s1)/2)\n",
    "    res = s1[:mid:]\n",
    "    res = res + s2\n",
    "    res = res + s1[mid:]\n",
    "    print(res)\n",
    "word(\"Ault\",\"Kelly\")"
   ]
  },
  {
   "cell_type": "code",
   "execution_count": 26,
   "id": "1b4141fa",
   "metadata": {},
   "outputs": [
    {
     "name": "stdout",
     "output_type": "stream",
     "text": [
      "AJrpan\n"
     ]
    }
   ],
   "source": [
    "def word(s1,s2):\n",
    "    s = int(len(s1)/2)\n",
    "    t = int(len(s2)/2)\n",
    "    r = s1[0]+s2[0]+s1[s]+s2[t]+s1[-1]+s2[-1]\n",
    "    print(r)\n",
    "word(\"America\",\"Japan\")"
   ]
  },
  {
   "cell_type": "code",
   "execution_count": 33,
   "id": "9a2149b1",
   "metadata": {},
   "outputs": [
    {
     "name": "stdout",
     "output_type": "stream",
     "text": [
      "yaivePNT\n"
     ]
    }
   ],
   "source": [
    "s = \"PyNaTive\"\n",
    "l1 = []\n",
    "l2 = []\n",
    "for i in s1:\n",
    "    if i.islower():\n",
    "         l1.append(i)\n",
    "    else :\n",
    "        l2.append(i) \n",
    "s = ''.join(l1+l2)\n",
    "print(s)"
   ]
  },
  {
   "cell_type": "code",
   "execution_count": 1,
   "id": "ad96714c",
   "metadata": {},
   "outputs": [
    {
     "name": "stdout",
     "output_type": "stream",
     "text": [
      "f, F\n"
     ]
    }
   ],
   "source": [
    "print('%x, %X' % (15, 15))\n",
    "\n",
    " "
   ]
  },
  {
   "cell_type": "code",
   "execution_count": 2,
   "id": "52585492",
   "metadata": {},
   "outputs": [
    {
     "name": "stdout",
     "output_type": "stream",
     "text": [
      "nan, nan, NAN, NAN\n"
     ]
    }
   ],
   "source": [
    "x = float('NaN')\n",
    "print('%f, %e, %F, %E' % (x, x, x, x))"
   ]
  },
  {
   "cell_type": "code",
   "execution_count": 3,
   "id": "ad14e892",
   "metadata": {},
   "outputs": [
    {
     "name": "stdout",
     "output_type": "stream",
     "text": [
      "[A]\n"
     ]
    }
   ],
   "source": [
    "print('[%c]' % 65)"
   ]
  },
  {
   "cell_type": "code",
   "execution_count": 6,
   "id": "e461129c",
   "metadata": {},
   "outputs": [
    {
     "name": "stdout",
     "output_type": "stream",
     "text": [
      "52573\n",
      "52573\n",
      "<class 'str'>\n"
     ]
    }
   ],
   "source": [
    "s = input()\n",
    "print(s)\n",
    "print(type(s))"
   ]
  },
  {
   "cell_type": "code",
   "execution_count": 7,
   "id": "95aede7e",
   "metadata": {},
   "outputs": [
    {
     "ename": "SyntaxError",
     "evalue": "positional argument follows keyword argument (1709515899.py, line 1)",
     "output_type": "error",
     "traceback": [
      "\u001b[1;36m  Input \u001b[1;32mIn [7]\u001b[1;36m\u001b[0m\n\u001b[1;33m    print(sep='--', 'Ben', 25, 'California')\u001b[0m\n\u001b[1;37m                                           ^\u001b[0m\n\u001b[1;31mSyntaxError\u001b[0m\u001b[1;31m:\u001b[0m positional argument follows keyword argument\n"
     ]
    }
   ],
   "source": [
    "print(sep='--', 'Ben', 25, 'California')"
   ]
  },
  {
   "cell_type": "code",
   "execution_count": 8,
   "id": "666dd561",
   "metadata": {},
   "outputs": [
    {
     "name": "stdout",
     "output_type": "stream",
     "text": [
      "PYnative // is for // Python Lovers//"
     ]
    }
   ],
   "source": [
    "print('PYnative ', end='//')\n",
    "print(' is for ', end='//')\n",
    "print(' Python Lovers', end='//')"
   ]
  },
  {
   "cell_type": "code",
   "execution_count": 11,
   "id": "7863ca4e",
   "metadata": {},
   "outputs": [
    {
     "name": "stdout",
     "output_type": "stream",
     "text": [
      "True\n",
      "false\n"
     ]
    }
   ],
   "source": [
    "def word(s1,s2):\n",
    "    if s1 in s2:\n",
    "        print(\"True\")\n",
    "    else:\n",
    "        print(\"false\")\n",
    "word(\"Yn\", \"PYnative\")\n",
    "word(\"Ynf\",\"PYnative\")"
   ]
  },
  {
   "cell_type": "code",
   "execution_count": 14,
   "id": "bac8f8fd",
   "metadata": {},
   "outputs": [
    {
     "name": "stdout",
     "output_type": "stream",
     "text": [
      "2\n"
     ]
    }
   ],
   "source": [
    "str1 = \"Welcome to USA. usa awesome, isn't it?\"\n",
    "st = str1.lower()\n",
    "y = st.count(\"usa\")\n",
    "print(y)"
   ]
  },
  {
   "cell_type": "code",
   "execution_count": 33,
   "id": "a9c96f79",
   "metadata": {},
   "outputs": [
    {
     "name": "stdout",
     "output_type": "stream",
     "text": [
      "actual integers: ['2', '9', '8', '4', '9', '6']\n"
     ]
    },
    {
     "ename": "NameError",
     "evalue": "name 'count' is not defined",
     "output_type": "error",
     "traceback": [
      "\u001b[1;31m---------------------------------------------------------------------------\u001b[0m",
      "\u001b[1;31mNameError\u001b[0m                                 Traceback (most recent call last)",
      "Input \u001b[1;32mIn [33]\u001b[0m, in \u001b[0;36m<cell line: 11>\u001b[1;34m()\u001b[0m\n\u001b[0;32m      8\u001b[0m         \u001b[38;5;28;01mcontinue\u001b[39;00m\n\u001b[0;32m     10\u001b[0m \u001b[38;5;28mprint\u001b[39m( \u001b[38;5;124m\"\u001b[39m\u001b[38;5;124mactual integers:\u001b[39m\u001b[38;5;124m\"\u001b[39m , lis)\n\u001b[1;32m---> 11\u001b[0m \u001b[38;5;28mprint\u001b[39m(\u001b[43mcount\u001b[49m(lis))\n",
      "\u001b[1;31mNameError\u001b[0m: name 'count' is not defined"
     ]
    }
   ],
   "source": [
    "str1 = \"PYnative29@#8496\"\n",
    "lis = []\n",
    "for i in str1:\n",
    "    if i.isdigit():\n",
    "        lis.append(i)\n",
    "        \n",
    "    else:\n",
    "        continue\n",
    "        \n",
    "print( \"actual integers:\" , lis)\n",
    "\n",
    "\n",
    "\n"
   ]
  },
  {
   "cell_type": "code",
   "execution_count": 40,
   "id": "f1f29461",
   "metadata": {},
   "outputs": [
    {
     "name": "stdout",
     "output_type": "stream",
     "text": [
      "actual integers: 38\n",
      "6.333333333333333\n"
     ]
    }
   ],
   "source": [
    "str1 = \"PYnative29@#8496\"\n",
    "b = 0\n",
    "c = 0\n",
    "for i in str1:\n",
    "    if i.isdigit():\n",
    "        c +=1\n",
    "        i =int(i)\n",
    "        b = b + i    \n",
    "    else:\n",
    "        continue\n",
    "print( \"actual integers:\" , b)\n",
    "print(b/c)\n"
   ]
  },
  {
   "cell_type": "code",
   "execution_count": 44,
   "id": "30ef4820",
   "metadata": {},
   "outputs": [
    {
     "name": "stdout",
     "output_type": "stream",
     "text": [
      "Result: {'A': 1, 'p': 2, 'l': 1, 'e': 1}\n"
     ]
    }
   ],
   "source": [
    "st = \"Apple\"\n",
    "c = dict()\n",
    "\n",
    "for i in st:\n",
    "    count = st.count(i)\n",
    "    # add / update the count of a character\n",
    "    c[i] = count\n",
    "print('Result:', c)\n"
   ]
  },
  {
   "cell_type": "code",
   "execution_count": 45,
   "id": "33bb939c",
   "metadata": {},
   "outputs": [
    {
     "name": "stdout",
     "output_type": "stream",
     "text": [
      "{'s': 1, 'h': 1, 'a': 2, 'r': 1, 'n': 1}\n"
     ]
    }
   ],
   "source": [
    "st = \"sharan\"\n",
    "swe = dict()\n",
    "for i in st:\n",
    "    count = st.count(i)\n",
    "    swe[i] = count\n",
    "print(swe)"
   ]
  },
  {
   "cell_type": "code",
   "execution_count": 47,
   "id": "92cb2bc2",
   "metadata": {},
   "outputs": [
    {
     "name": "stdout",
     "output_type": "stream",
     "text": [
      "ahtews\n"
     ]
    }
   ],
   "source": [
    "st = \"swetha\"\n",
    "print(st[::-1])"
   ]
  },
  {
   "cell_type": "code",
   "execution_count": 2,
   "id": "b2e0c195",
   "metadata": {},
   "outputs": [
    {
     "name": "stdout",
     "output_type": "stream",
     "text": [
      "43\n"
     ]
    }
   ],
   "source": [
    "st = \"Emma is a data scientist who knows Python. Emma works at google.\"\n",
    "index = st.rfind(\"Emma\")\n",
    "print(index)"
   ]
  },
  {
   "cell_type": "code",
   "execution_count": 1,
   "id": "58a145e3",
   "metadata": {},
   "outputs": [
    {
     "name": "stdout",
     "output_type": "stream",
     "text": [
      "Original String is: Emma is a data scientist who knows Python. Emma works at google.\n",
      "Last occurrence of Emma starts at index: 43\n"
     ]
    }
   ],
   "source": [
    "str1 = \"Emma is a data scientist who knows Python. Emma works at google.\"\n",
    "print(\"Original String is:\", str1)\n",
    "\n",
    "index = str1.rfind(\"Emma\")\n",
    "print(\"Last occurrence of Emma starts at index:\", index)"
   ]
  },
  {
   "cell_type": "code",
   "execution_count": 5,
   "id": "b0f916cf",
   "metadata": {},
   "outputs": [
    {
     "name": "stdout",
     "output_type": "stream",
     "text": [
      "['Emma', 'is', 'a', 'data', 'scientist']\n",
      "\n",
      "\n",
      "Emma\n",
      "is\n",
      "a\n",
      "data\n",
      "scientist\n"
     ]
    }
   ],
   "source": [
    "st = \"Emma-is-a-data-scientist\"\n",
    "s = st.split('-')\n",
    "print(s)\n",
    "print(\"\\n\")\n",
    "\n",
    "for i in s:\n",
    "    print(i)"
   ]
  },
  {
   "cell_type": "code",
   "execution_count": 6,
   "id": "ce37f714",
   "metadata": {},
   "outputs": [
    {
     "name": "stdout",
     "output_type": "stream",
     "text": [
      "['Emma', 'Jon', 'Kelly', 'Eric']\n"
     ]
    }
   ],
   "source": [
    "l1 = [\"Emma\", \"Jon\", \"\", \"Kelly\", None, \"Eric\", \"\"]\n",
    "s1 = []\n",
    "for i in l1:\n",
    "    \n",
    "    if i:\n",
    "        s1.append(i)\n",
    "print(s1)"
   ]
  },
  {
   "cell_type": "code",
   "execution_count": 7,
   "id": "04d82abc",
   "metadata": {},
   "outputs": [
    {
     "name": "stdout",
     "output_type": "stream",
     "text": [
      "Original string is  /*Jon is @developer & musician\n",
      "New string is  Jon is developer  musician\n"
     ]
    }
   ],
   "source": [
    "import string\n",
    "\n",
    "str1 = \"/*Jon is @developer & musician\"\n",
    "print(\"Original string is \", str1)\n",
    "\n",
    "new_str = str1.translate(str.maketrans('', '', string.punctuation))\n",
    "\n",
    "print(\"New string is \", new_str)"
   ]
  },
  {
   "cell_type": "code",
   "execution_count": 9,
   "id": "448cad01",
   "metadata": {},
   "outputs": [
    {
     "name": "stdout",
     "output_type": "stream",
     "text": [
      "Jon is developer  musician\n"
     ]
    }
   ],
   "source": [
    "import string\n",
    "st = \"/*Jon is @developer & musician\"\n",
    "\n",
    "s = st.translate(str.maketrans('','',string.punctuation))\n",
    "print(s)"
   ]
  },
  {
   "cell_type": "code",
   "execution_count": 10,
   "id": "33e51016",
   "metadata": {},
   "outputs": [
    {
     "name": "stdout",
     "output_type": "stream",
     "text": [
      "Original string is I am 25 years and 10 months old\n",
      "2510\n"
     ]
    }
   ],
   "source": [
    "str1 = 'I am 25 years and 10 months old'\n",
    "print(\"Original string is\", str1)\n",
    "\n",
    "# Retain Numbers in String\n",
    "# Using list comprehension + join() + isdigit()\n",
    "res = \"\".join([item for item in str1 if item.isdigit()])\n",
    "\n",
    "print(res)"
   ]
  },
  {
   "cell_type": "code",
   "execution_count": 11,
   "id": "58a3db37",
   "metadata": {},
   "outputs": [
    {
     "name": "stdout",
     "output_type": "stream",
     "text": [
      "The original string is : Emma25 is Data scientist50 and AI Expert\n",
      "Displaying words with alphabets and numbers\n",
      "Emma25\n",
      "scientist50\n"
     ]
    }
   ],
   "source": [
    "str1 = \"Emma25 is Data scientist50 and AI Expert\"\n",
    "print(\"The original string is : \" + str1)\n",
    "\n",
    "res = []\n",
    "# split string on whitespace\n",
    "temp = str1.split()\n",
    "\n",
    "# Words with both alphabets and numbers\n",
    "# isdigit() for numbers + isalpha() for alphabets\n",
    "# use any() to check each character\n",
    "\n",
    "for item in temp:\n",
    "    if any(char.isalpha() for char in item) and any(char.isdigit() for char in item):\n",
    "        res.append(item)\n",
    "\n",
    "print(\"Displaying words with alphabets and numbers\")\n",
    "for i in res:\n",
    "    print(i)\n"
   ]
  },
  {
   "cell_type": "code",
   "execution_count": 12,
   "id": "55a038d3",
   "metadata": {},
   "outputs": [
    {
     "name": "stdout",
     "output_type": "stream",
     "text": [
      "The original string is :  /*Jon is @developer & musician!!\n",
      "The strings after replacement :  ##Jon is #developer # musician##\n"
     ]
    }
   ],
   "source": [
    "import string\n",
    "\n",
    "str1 = '/*Jon is @developer & musician!!'\n",
    "print(\"The original string is : \", str1)\n",
    "\n",
    "# Replace punctuations with #\n",
    "replace_char = '#'\n",
    "\n",
    "# string.punctuation to get the list of all special symbols\n",
    "for char in string.punctuation:\n",
    "    str1 = str1.replace(char, replace_char)\n",
    "\n",
    "print(\"The strings after replacement : \", str1)\n"
   ]
  },
  {
   "cell_type": "code",
   "execution_count": 17,
   "id": "fc6c2f7f",
   "metadata": {},
   "outputs": [
    {
     "name": "stdout",
     "output_type": "stream",
     "text": [
      "[3, 9, 15, 21, 4, 8, 12, 16, 20, 24, 28]\n"
     ]
    }
   ],
   "source": [
    "l1 = [3, 6, 9, 12, 15, 18, 21]\n",
    "l2 = [4, 8, 12, 16, 20, 24, 28]\n",
    "l3 = []\n",
    "l4 = []\n",
    "for i in l1:\n",
    "    if i%2!=0:\n",
    "        l3.append(i)\n",
    "    \n",
    "for j in l2:\n",
    "    if j%2==0:\n",
    "        l4.append(j)\n",
    "    \n",
    "print(l3+l4)"
   ]
  },
  {
   "cell_type": "code",
   "execution_count": 18,
   "id": "315ce371",
   "metadata": {},
   "outputs": [
    {
     "name": "stdout",
     "output_type": "stream",
     "text": [
      "Element at odd-index positions from list one\n",
      "[6, 12, 18]\n",
      "Element at even-index positions from list two\n",
      "[4, 12, 20, 28]\n",
      "Printing Final third list\n",
      "[6, 12, 18, 4, 12, 20, 28]\n"
     ]
    }
   ],
   "source": [
    "list1 = [3, 6, 9, 12, 15, 18, 21]\n",
    "list2 = [4, 8, 12, 16, 20, 24, 28]\n",
    "res = list()\n",
    "\n",
    "odd_elements = list1[1::2]\n",
    "print(\"Element at odd-index positions from list one\")\n",
    "print(odd_elements)\n",
    "\n",
    "even_elements = list2[0::2]\n",
    "print(\"Element at even-index positions from list two\")\n",
    "print(even_elements)\n",
    "\n",
    "print(\"Printing Final third list\")\n",
    "res.extend(odd_elements)\n",
    "res.extend(even_elements)\n",
    "print(res)"
   ]
  },
  {
   "cell_type": "code",
   "execution_count": 1,
   "id": "de4d2b13",
   "metadata": {},
   "outputs": [
    {
     "name": "stdout",
     "output_type": "stream",
     "text": [
      "tive\n",
      "native\n"
     ]
    }
   ],
   "source": [
    "def prr(word , n):\n",
    "    x = word[n :]\n",
    "    return x\n",
    "\n",
    "case1 = prr(\"pynative\",4)\n",
    "print(case1)\n",
    "case2 = prr(\"pynative\",2)\n",
    "print(case2)\n"
   ]
  },
  {
   "cell_type": "code",
   "execution_count": 2,
   "id": "ade607eb",
   "metadata": {},
   "outputs": [
    {
     "name": "stdout",
     "output_type": "stream",
     "text": [
      "[10, 20, 30, 40, 10] True\n",
      "[75, 65, 35, 75, 30] False\n"
     ]
    }
   ],
   "source": [
    "def frts(numberList):\n",
    "    x = numberList[0]\n",
    "    y = numberList[-1]\n",
    "    if x == y :\n",
    "        return True\n",
    "    else:\n",
    "        return False\n",
    "\n",
    "d = [10, 20, 30, 40, 10]\n",
    "print(d,frts(d))\n",
    "dd = [75, 65, 35, 75, 30]\n",
    "print(dd,frts(dd))\n"
   ]
  },
  {
   "cell_type": "code",
   "execution_count": 3,
   "id": "7771cc38",
   "metadata": {},
   "outputs": [
    {
     "name": "stdout",
     "output_type": "stream",
     "text": [
      "True\n",
      "False\n"
     ]
    }
   ],
   "source": [
    "def pot(numberList):\n",
    "    s = numberList[0]\n",
    "    a = numberList[-1]\n",
    "    if s == a :\n",
    "        return True\n",
    "    else:\n",
    "        return False\n",
    "\n",
    "r = [10, 20, 30, 40, 10]\n",
    "print(pot(r))\n",
    "w = [75, 65, 35, 75, 30]\n",
    "print(pot(w))"
   ]
  },
  {
   "cell_type": "code",
   "execution_count": 4,
   "id": "730813b2",
   "metadata": {},
   "outputs": [
    {
     "name": "stdout",
     "output_type": "stream",
     "text": [
      "10\n",
      "20\n",
      "55\n"
     ]
    }
   ],
   "source": [
    "lit = [10, 20, 33, 46, 55]\n",
    "for i in lit:\n",
    "    if i % 5 == 0:\n",
    "        print(i)\n",
    "    "
   ]
  },
  {
   "cell_type": "code",
   "execution_count": 5,
   "id": "28255a99",
   "metadata": {},
   "outputs": [
    {
     "name": "stdout",
     "output_type": "stream",
     "text": [
      "2\n"
     ]
    }
   ],
   "source": [
    "x = \"Emma is good developer. Emma is a writer\"\n",
    "y = x.count(\"Emma\")\n",
    "print(y)"
   ]
  },
  {
   "cell_type": "code",
   "execution_count": 6,
   "id": "c6e9761b",
   "metadata": {},
   "outputs": [
    {
     "name": "stdout",
     "output_type": "stream",
     "text": [
      "0\n",
      "1\n",
      "2\n",
      "3\n",
      "4\n",
      "5\n",
      "6\n",
      "7\n",
      "8\n",
      "9\n"
     ]
    }
   ],
   "source": [
    "for i in range(10):\n",
    " print(i)"
   ]
  },
  {
   "cell_type": "code",
   "execution_count": 7,
   "id": "bd122437",
   "metadata": {},
   "outputs": [
    {
     "name": "stdout",
     "output_type": "stream",
     "text": [
      "\n",
      "\n",
      "1 \n",
      "\n",
      "2 2 \n",
      "\n",
      "3 3 3 \n",
      "\n",
      "4 4 4 4 \n",
      "\n",
      "5 5 5 5 5 \n",
      "\n",
      "6 6 6 6 6 6 \n",
      "\n",
      "7 7 7 7 7 7 7 \n",
      "\n",
      "8 8 8 8 8 8 8 8 \n",
      "\n",
      "9 9 9 9 9 9 9 9 9 \n",
      "\n"
     ]
    }
   ],
   "source": [
    "for num in range(10):\n",
    "    for i in range(num):\n",
    "        print (num, end=\" \") \n",
    "    print(\"\\n\")"
   ]
  },
  {
   "cell_type": "code",
   "execution_count": 8,
   "id": "261f35d8",
   "metadata": {},
   "outputs": [
    {
     "name": "stdout",
     "output_type": "stream",
     "text": [
      "Original String is James\n",
      "New String: Jms\n"
     ]
    }
   ],
   "source": [
    "str1 = 'James'\n",
    "print(\"Original String is\", str1)\n",
    "\n",
    "# Get first character\n",
    "res = str1[0]\n",
    "\n",
    "# Get string size\n",
    "l = len(str1)\n",
    "# Get middle index number\n",
    "mi = int(l / 2)\n",
    "# Get middle character and add it to result\n",
    "res = res + str1[mi]\n",
    "\n",
    "# Get last character and add it to result\n",
    "res = res + str1[l - 1]\n",
    "\n",
    "print(\"New String:\", res)"
   ]
  },
  {
   "cell_type": "code",
   "execution_count": 9,
   "id": "ba950f4b",
   "metadata": {},
   "outputs": [
    {
     "name": "stdout",
     "output_type": "stream",
     "text": [
      "sta\n"
     ]
    }
   ],
   "source": [
    "ste = \"swetha\"\n",
    "res = ste[0]\n",
    "lee = len(ste)\n",
    "moo = int(lee/2)\n",
    "res = res + ste[moo]\n",
    "res = res + ste[lee-1]\n",
    "print(res)"
   ]
  },
  {
   "cell_type": "code",
   "execution_count": 10,
   "id": "06351f51",
   "metadata": {},
   "outputs": [
    {
     "name": "stdout",
     "output_type": "stream",
     "text": [
      "s t s\n"
     ]
    }
   ],
   "source": [
    "sit = \"swethas\"\n",
    "res = sit[0]\n",
    "rit = sit[-1]\n",
    "s = len(sit)\n",
    "ret = int(s/2)\n",
    "e = sit[ret]\n",
    "print(res,e,rit)"
   ]
  },
  {
   "cell_type": "code",
   "execution_count": 13,
   "id": "d3b50698",
   "metadata": {},
   "outputs": [],
   "source": [
    "st = \"james\"\n",
    "res = st[0]\n",
    "ret = len(st)\n",
    "mid = int(ret/2)\n",
    "res = res + st[mid]\n",
    "res = res + st[ret-1]"
   ]
  },
  {
   "cell_type": "code",
   "execution_count": 14,
   "id": "7c8f904e",
   "metadata": {},
   "outputs": [
    {
     "name": "stdout",
     "output_type": "stream",
     "text": [
      "\n",
      "\n",
      "1 \n",
      "\n",
      "2 2 \n",
      "\n"
     ]
    }
   ],
   "source": [
    "for num in range(3):\n",
    "    for i in range(num):\n",
    "        print(num , end=\" \")\n",
    "    print(\"\\n\")"
   ]
  },
  {
   "cell_type": "code",
   "execution_count": 15,
   "id": "a0f5eb39",
   "metadata": {},
   "outputs": [
    {
     "name": "stdout",
     "output_type": "stream",
     "text": [
      "enter:2\n",
      "enter:3\n",
      "6\n"
     ]
    }
   ],
   "source": [
    "num = int(input(\"enter:\"))\n",
    "su = int(input(\"enter:\"))\n",
    "x = num*su\n",
    "print(x)"
   ]
  },
  {
   "cell_type": "code",
   "execution_count": 16,
   "id": "c090df53",
   "metadata": {},
   "outputs": [
    {
     "ename": "SyntaxError",
     "evalue": "invalid syntax. Maybe you meant '==' or ':=' instead of '='? (1599897895.py, line 1)",
     "output_type": "error",
     "traceback": [
      "\u001b[1;36m  Cell \u001b[1;32mIn[16], line 1\u001b[1;36m\u001b[0m\n\u001b[1;33m    str1 = ('re','edva','efae',sep='**')\u001b[0m\n\u001b[1;37m                               ^\u001b[0m\n\u001b[1;31mSyntaxError\u001b[0m\u001b[1;31m:\u001b[0m invalid syntax. Maybe you meant '==' or ':=' instead of '='?\n"
     ]
    }
   ],
   "source": [
    "str1 = ('re','edva','efae',sep='**')\n",
    "print(str1)"
   ]
  },
  {
   "cell_type": "code",
   "execution_count": 17,
   "id": "210ab41d",
   "metadata": {},
   "outputs": [
    {
     "name": "stdout",
     "output_type": "stream",
     "text": [
      "My**Name**Is**James\n"
     ]
    }
   ],
   "source": [
    "print('My', 'Name', 'Is', 'James', sep='**')"
   ]
  },
  {
   "cell_type": "code",
   "execution_count": 18,
   "id": "3477b2e1",
   "metadata": {},
   "outputs": [
    {
     "name": "stdout",
     "output_type": "stream",
     "text": [
      "11\n"
     ]
    }
   ],
   "source": [
    "n = 9\n",
    "print(\"%o\" % n)"
   ]
  },
  {
   "cell_type": "code",
   "execution_count": 19,
   "id": "b07bd05a",
   "metadata": {},
   "outputs": [
    {
     "name": "stdout",
     "output_type": "stream",
     "text": [
      "458.54\n"
     ]
    }
   ],
   "source": [
    "num = 458.541315\n",
    "print(\"%.2f\" % num)"
   ]
  },
  {
   "cell_type": "code",
   "execution_count": 20,
   "id": "5597a32d",
   "metadata": {},
   "outputs": [
    {
     "name": "stdout",
     "output_type": "stream",
     "text": [
      "Enter number at location 0 :\n",
      "2\n",
      "Enter number at location 1 :\n",
      "3\n",
      "Enter number at location 2 :\n",
      "4\n",
      "Enter number at location 3 :\n",
      "5\n",
      "Enter number at location 4 :\n",
      "6\n",
      "User List: [2.0, 3.0, 4.0, 5.0, 6.0]\n"
     ]
    }
   ],
   "source": [
    "numbers = []\n",
    "\n",
    "# 5 is the list size\n",
    "# run loop 5 times\n",
    "for i in range(0, 5):\n",
    "    print(\"Enter number at location\", i, \":\")\n",
    "    # accept float number from user\n",
    "    item = float(input())\n",
    "    # add it to the list\n",
    "    numbers.append(item)\n",
    "\n",
    "print(\"User List:\", numbers)"
   ]
  },
  {
   "cell_type": "code",
   "execution_count": 21,
   "id": "192fd12f",
   "metadata": {},
   "outputs": [
    {
     "name": "stdout",
     "output_type": "stream",
     "text": [
      "enter:3\n",
      "list[3.0]\n"
     ]
    }
   ],
   "source": [
    "num = float(input(\"enter:\"))\n",
    "x = list[num]\n",
    "print(x)"
   ]
  },
  {
   "cell_type": "code",
   "execution_count": 22,
   "id": "c71aab7e",
   "metadata": {},
   "outputs": [
    {
     "name": "stdout",
     "output_type": "stream",
     "text": [
      "12345678910\t\t\n",
      "2468101214161820\t\t\n",
      "36912151821242730\t\t\n",
      "481216202428323640\t\t\n",
      "5101520253035404550\t\t\n",
      "6121824303642485460\t\t\n",
      "7142128354249566370\t\t\n",
      "8162432404856647280\t\t\n",
      "9182736455463728190\t\t\n",
      "102030405060708090100\t\t\n"
     ]
    }
   ],
   "source": [
    "for i in range(1,11):\n",
    "    for j in range(1,11):\n",
    "        print(i*j,end=\"\")\n",
    "    print(\"\\t\\t\")\n",
    "      "
   ]
  },
  {
   "cell_type": "code",
   "execution_count": 23,
   "id": "24f8d8aa",
   "metadata": {},
   "outputs": [
    {
     "name": "stdout",
     "output_type": "stream",
     "text": [
      "******* \n",
      "****** \n",
      "***** \n",
      "**** \n",
      "*** \n",
      "** \n",
      "* \n",
      " \n"
     ]
    }
   ],
   "source": [
    "for i in range(8, 0,-1):\n",
    "    for j in range(0, i-1):\n",
    "        print('*',end=\"\")\n",
    "    print(\" \")\n",
    "        "
   ]
  },
  {
   "cell_type": "code",
   "execution_count": 25,
   "id": "5dd4cec8",
   "metadata": {},
   "outputs": [
    {
     "name": "stdout",
     "output_type": "stream",
     "text": [
      "<class 'int'>\n"
     ]
    }
   ],
   "source": [
    "print(type(0xFF))"
   ]
  },
  {
   "cell_type": "code",
   "execution_count": 26,
   "id": "454bd402",
   "metadata": {},
   "outputs": [
    {
     "name": "stdout",
     "output_type": "stream",
     "text": [
      "False True True True\n"
     ]
    }
   ],
   "source": [
    "print(bool(0), bool(3.14159), bool(-3), bool(1.0+1j))"
   ]
  },
  {
   "cell_type": "code",
   "execution_count": 27,
   "id": "269da191",
   "metadata": {},
   "outputs": [
    {
     "name": "stdout",
     "output_type": "stream",
     "text": [
      "6561\n"
     ]
    }
   ],
   "source": [
    "def p(b,e):\n",
    "    n=e\n",
    "    r=1\n",
    "    while n>0:\n",
    "        r = r*b\n",
    "        n=n-1\n",
    "    print(r)\n",
    "p(9,4)"
   ]
  },
  {
   "cell_type": "code",
   "execution_count": 28,
   "id": "579f08d6",
   "metadata": {},
   "outputs": [
    {
     "name": "stdout",
     "output_type": "stream",
     "text": [
      "256\n",
      "8\n"
     ]
    }
   ],
   "source": [
    "def prblm(base,expo):\n",
    "    num = expo\n",
    "    res = 1\n",
    "    while num>0:\n",
    "        res = res*base\n",
    "        num = num-1\n",
    "    print(res)\n",
    "prblm(4,4)\n",
    "prblm(2,3)"
   ]
  },
  {
   "cell_type": "code",
   "execution_count": 29,
   "id": "c78f08ef",
   "metadata": {},
   "outputs": [
    {
     "name": "stdout",
     "output_type": "stream",
     "text": [
      "tive\n",
      "native\n",
      "ive\n"
     ]
    }
   ],
   "source": [
    "def problem(str1,num1):\n",
    "    no = str1[num1:]\n",
    "    return no\n",
    "print(problem(\"pynative\",4))\n",
    "print(problem(\"pynative\",2))\n",
    "print(problem(\"pynative\",5)) "
   ]
  },
  {
   "cell_type": "code",
   "execution_count": 30,
   "id": "b050f89a",
   "metadata": {},
   "outputs": [
    {
     "name": "stdout",
     "output_type": "stream",
     "text": [
      "tive\n",
      "native\n"
     ]
    }
   ],
   "source": [
    "str1=\"pynative\"\n",
    "print(str1[4:])\n",
    "print(str1[2:])"
   ]
  },
  {
   "cell_type": "code",
   "execution_count": 31,
   "id": "a67fea50",
   "metadata": {},
   "outputs": [
    {
     "name": "stdout",
     "output_type": "stream",
     "text": [
      "True\n",
      "False\n"
     ]
    }
   ],
   "source": [
    "def prblm(l1):\n",
    "    if l1[0] == l1[-1]:\n",
    "        return True\n",
    "    else:\n",
    "        return False\n",
    "case1 = prblm([10, 20, 30, 40, 10])\n",
    "print(case1)\n",
    "case2 = prblm([75, 65, 35, 75, 30])\n",
    "print(case2)"
   ]
  },
  {
   "cell_type": "code",
   "execution_count": 32,
   "id": "a1d48e1f",
   "metadata": {},
   "outputs": [
    {
     "name": "stdout",
     "output_type": "stream",
     "text": [
      "10\n",
      "20\n",
      "55\n"
     ]
    }
   ],
   "source": [
    "def pro(lis):\n",
    "    for i in lis:\n",
    "        if i%5==0:\n",
    "            print(i)\n",
    "pro([10, 20, 33, 46, 55])"
   ]
  },
  {
   "cell_type": "code",
   "execution_count": 33,
   "id": "144b592b",
   "metadata": {},
   "outputs": [
    {
     "name": "stdout",
     "output_type": "stream",
     "text": [
      "\n",
      "\n",
      "1\n",
      "\n",
      "22\n",
      "\n",
      "333\n",
      "\n",
      "4444\n",
      "\n",
      "55555\n",
      "\n",
      "666666\n",
      "\n",
      "7777777\n",
      "\n",
      "88888888\n",
      "\n",
      "999999999\n",
      "\n"
     ]
    }
   ],
   "source": [
    "for i in range(10):\n",
    "    for j in range(i):\n",
    "        print(i,end=\"\")\n",
    "    print(\"\\n\")"
   ]
  },
  {
   "cell_type": "code",
   "execution_count": 3,
   "id": "abba1365",
   "metadata": {},
   "outputs": [
    {
     "name": "stdout",
     "output_type": "stream",
     "text": [
      "swe sha tha\n"
     ]
    }
   ],
   "source": [
    "def word(s1,s2):\n",
    "    s = int(len(s1)/2)\n",
    "    x = s1[:s:]\n",
    "    x = x+s2\n",
    "    x = x + s1[s:]\n",
    "    print(x)\n",
    "word(\"swetha\",\" sha \")"
   ]
  },
  {
   "cell_type": "code",
   "execution_count": 35,
   "id": "81840e3a",
   "metadata": {},
   "outputs": [
    {
     "name": "stdout",
     "output_type": "stream",
     "text": [
      "swe\n"
     ]
    }
   ],
   "source": [
    "swe = \"swethas\"\n",
    "x = int(len(swe)/2)\n",
    "s = swe[:x]\n",
    "print(s)"
   ]
  },
  {
   "cell_type": "code",
   "execution_count": 36,
   "id": "2600d933",
   "metadata": {},
   "outputs": [
    {
     "name": "stdout",
     "output_type": "stream",
     "text": [
      "thas\n"
     ]
    }
   ],
   "source": [
    "swe = \"swethas\"\n",
    "x = int(len(swe)/2)\n",
    "s = swe[x:]\n",
    "print(s)"
   ]
  },
  {
   "cell_type": "code",
   "execution_count": 37,
   "id": "9af5385c",
   "metadata": {},
   "outputs": [
    {
     "name": "stdout",
     "output_type": "stream",
     "text": [
      "wt\n"
     ]
    }
   ],
   "source": [
    "s = \"swetha\"\n",
    "print(s[1:4:2])"
   ]
  },
  {
   "cell_type": "code",
   "execution_count": 38,
   "id": "09dc9e9c",
   "metadata": {},
   "outputs": [
    {
     "name": "stdout",
     "output_type": "stream",
     "text": [
      "AJrpan\n"
     ]
    }
   ],
   "source": [
    "def word(s1,s2):\n",
    "    s = int(len(s1)/2)\n",
    "    x = int(len(s2)/2)\n",
    "    w = s1[0] + s2[0] + s1[s] + s2[x] + s1[-1] + s2[-1]\n",
    "    print(w)\n",
    "word(\"America\" , \"Japan\")"
   ]
  },
  {
   "cell_type": "code",
   "execution_count": 39,
   "id": "26a0a67f",
   "metadata": {},
   "outputs": [
    {
     "name": "stdout",
     "output_type": "stream",
     "text": [
      "ntivPYAE\n"
     ]
    }
   ],
   "source": [
    "st = \"PYnAtivE\"\n",
    "lower = []\n",
    "upper = []\n",
    "for i in st:\n",
    "    if i.islower():\n",
    "      lower.append(i)\n",
    "    else:\n",
    "      upper.append(i)\n",
    "x = ''.join(lower + upper)\n",
    "print(x)"
   ]
  },
  {
   "cell_type": "code",
   "execution_count": 40,
   "id": "089ea036",
   "metadata": {},
   "outputs": [
    {
     "name": "stdout",
     "output_type": "stream",
     "text": [
      "\n",
      "\n",
      "1\n",
      "\n",
      "22\n",
      "\n",
      "333\n",
      "\n",
      "4444\n",
      "\n"
     ]
    }
   ],
   "source": [
    "for i in range(5):\n",
    "    for s in range(i):\n",
    "        print(i,end=\"\")\n",
    "    print(\"\\n\")\n",
    "    "
   ]
  },
  {
   "cell_type": "code",
   "execution_count": 41,
   "id": "5fcc74c4",
   "metadata": {},
   "outputs": [
    {
     "name": "stdout",
     "output_type": "stream",
     "text": [
      "4567"
     ]
    }
   ],
   "source": [
    "st = 7654\n",
    "while st>0:\n",
    "    rem = st%10\n",
    "    st = st//10\n",
    "    print(rem,end=\"\")\n",
    "    "
   ]
  },
  {
   "cell_type": "code",
   "execution_count": 42,
   "id": "a3d19e65",
   "metadata": {},
   "outputs": [
    {
     "name": "stdout",
     "output_type": "stream",
     "text": [
      "hr\n",
      "ijr\n"
     ]
    }
   ],
   "source": [
    "def word(num):\n",
    "    original = num\n",
    "    rev = 0\n",
    "    while num >0:\n",
    "        rem = num%10\n",
    "        rev = (rev*10) + rem\n",
    "        num = num//10\n",
    "        \n",
    "    if original == rev:\n",
    "        print(\"hr\")\n",
    "    else:\n",
    "        print(\"ijr\")\n",
    "word(121)\n",
    "word(909098)"
   ]
  },
  {
   "cell_type": "code",
   "execution_count": 43,
   "id": "f61a8508",
   "metadata": {},
   "outputs": [
    {
     "name": "stdout",
     "output_type": "stream",
     "text": [
      "tre\n"
     ]
    }
   ],
   "source": [
    "def word(num):\n",
    "    original = num\n",
    "    rev = 0\n",
    "    while num>0:\n",
    "        rem = num%10\n",
    "        rev = (rev*10) + rem\n",
    "        num = num//10\n",
    "        \n",
    "    if original == rev:\n",
    "         print(\"tre\")\n",
    "    else:\n",
    "         print(\"ui\")\n",
    "        \n",
    "word(121)"
   ]
  },
  {
   "cell_type": "code",
   "execution_count": 44,
   "id": "50a93ed4",
   "metadata": {},
   "outputs": [
    {
     "name": "stdout",
     "output_type": "stream",
     "text": [
      "[25, 35, 40, 60, 90]\n"
     ]
    }
   ],
   "source": [
    "def word(l1,l2):\n",
    "    lists = []\n",
    "    for i in l1:\n",
    "        if i %2!=0:\n",
    "            lists.append(i)\n",
    "    for i in l2:\n",
    "        if i %2==0:\n",
    "            lists.append(i)\n",
    "    return lists\n",
    "\n",
    "l1 = [10, 20, 25, 30, 35]\n",
    "l2 = [40, 45, 60, 75, 90]\n",
    "print(word(l1,l2))"
   ]
  },
  {
   "cell_type": "code",
   "execution_count": 45,
   "id": "1ed5c01d",
   "metadata": {},
   "outputs": [
    {
     "name": "stdout",
     "output_type": "stream",
     "text": [
      "sygDGF\n"
     ]
    }
   ],
   "source": [
    "def word(l1):\n",
    "    lower = []\n",
    "    upper = []\n",
    "    for i in l1:\n",
    "        if i.islower():\n",
    "            lower.append(i)\n",
    "        else:\n",
    "            upper.append(i)\n",
    "    print(\"\".join(lower+upper))\n",
    "    \n",
    "word(\"syDgGF\")\n",
    "\n"
   ]
  },
  {
   "cell_type": "code",
   "execution_count": 46,
   "id": "a2ef6f12",
   "metadata": {},
   "outputs": [
    {
     "name": "stdout",
     "output_type": "stream",
     "text": [
      "hr\n",
      "ijr\n"
     ]
    }
   ],
   "source": [
    "def word(num):\n",
    "    original = num\n",
    "    rev = 0\n",
    "    while num >0:\n",
    "        rem = num%10\n",
    "        rev = (rev*10) + rem\n",
    "        num = num//10\n",
    "        \n",
    "    if original == rev:\n",
    "        print(\"hr\")\n",
    "    else:\n",
    "        print(\"ijr\")\n",
    "word(121)\n",
    "word(909098)"
   ]
  },
  {
   "cell_type": "code",
   "execution_count": 47,
   "id": "33d79c6c",
   "metadata": {},
   "outputs": [
    {
     "name": "stdout",
     "output_type": "stream",
     "text": [
      "nnn\n",
      "nnn\n"
     ]
    }
   ],
   "source": [
    "def www(num):\n",
    "    original = num\n",
    "    rev = 0\n",
    "    while num >0:\n",
    "        rem = num%10\n",
    "        rev = (rev*10) + rem\n",
    "        num = num //10\n",
    "        \n",
    "    if original == rev :\n",
    "        print(\"mmm\")\n",
    "    else:\n",
    "        print(\"nnn\")\n",
    "www(11221)\n",
    "www(392)"
   ]
  },
  {
   "cell_type": "code",
   "execution_count": 48,
   "id": "fcb1be07",
   "metadata": {},
   "outputs": [
    {
     "name": "stdout",
     "output_type": "stream",
     "text": [
      "yes\n",
      "no\n"
     ]
    }
   ],
   "source": [
    "def prblm(num):\n",
    "    original = num\n",
    "    rev = 0\n",
    "    while num >0:\n",
    "        rem = num%10\n",
    "        rev = (rev*10) +rem\n",
    "        num = num // 10\n",
    "        \n",
    "    if original == rev:\n",
    "         print(\"yes\")\n",
    "    else:\n",
    "        print(\"no\")\n",
    "prblm(121)\n",
    "prblm(123)"
   ]
  },
  {
   "cell_type": "code",
   "execution_count": 49,
   "id": "5d11be5b",
   "metadata": {},
   "outputs": [
    {
     "name": "stdout",
     "output_type": "stream",
     "text": [
      "Given number palindrome\n",
      "Given number is not palindrome\n"
     ]
    }
   ],
   "source": [
    "def palindrome(number):\n",
    "    original_num = number\n",
    "    \n",
    "    # reverse the given number\n",
    "    reverse_num = 0\n",
    "    while number > 0:\n",
    "        reminder = number % 10\n",
    "        reverse_num = (reverse_num * 10) + reminder\n",
    "        number = number // 10\n",
    "\n",
    "    # check numbers\n",
    "    if original_num == reverse_num:\n",
    "        print(\"Given number palindrome\")\n",
    "    else:\n",
    "        print(\"Given number is not palindrome\")\n",
    "\n",
    "palindrome(121)\n",
    "palindrome(125)"
   ]
  },
  {
   "cell_type": "code",
   "execution_count": 50,
   "id": "8bccb9fb",
   "metadata": {},
   "outputs": [
    {
     "name": "stdout",
     "output_type": "stream",
     "text": [
      "pre 0 cur 1 sum 1\n",
      "pre 1 cur 2 sum 3\n",
      "pre 2 cur 3 sum 5\n",
      "pre 3 cur 4 sum 7\n",
      "pre 4 cur 5 sum 9\n",
      "pre 5 cur 6 sum 11\n",
      "pre 6 cur 7 sum 13\n",
      "pre 7 cur 8 sum 15\n",
      "pre 8 cur 9 sum 17\n",
      "pre 9 cur 10 sum 19\n"
     ]
    }
   ],
   "source": [
    "s = 0\n",
    "for i in range(1,11):\n",
    "    x = s + i \n",
    "    print(\"pre\",s,\"cur\",i,\"sum\",x)\n",
    "    s = i"
   ]
  },
  {
   "cell_type": "code",
   "execution_count": 51,
   "id": "f1e2218c",
   "metadata": {},
   "outputs": [
    {
     "name": "stdout",
     "output_type": "stream",
     "text": [
      "char: 8 digit: 2 symbol: 3\n"
     ]
    }
   ],
   "source": [
    "def word(sti):\n",
    "    tit = 0\n",
    "    did = 0\n",
    "    sis = 0\n",
    "    for i in sti:\n",
    "        if i.isalpha():\n",
    "            tit += 1\n",
    "        elif i.isdigit():\n",
    "            did += 1\n",
    "        else:\n",
    "            sis += 1\n",
    "    print(\"char:\",tit,\"digit:\",did,\"symbol:\",sis)\n",
    "\n",
    "word(\"P@yn2at&#i5ve\")"
   ]
  },
  {
   "cell_type": "code",
   "execution_count": 52,
   "id": "c7cbf327",
   "metadata": {},
   "outputs": [
    {
     "name": "stdout",
     "output_type": "stream",
     "text": [
      "Chars = 1 Digits = 0 Symbol = 0\n",
      "Chars = 1 Digits = 0 Symbol = 1\n",
      "Chars = 2 Digits = 0 Symbol = 1\n",
      "Chars = 3 Digits = 0 Symbol = 1\n",
      "Chars = 3 Digits = 1 Symbol = 1\n",
      "Chars = 4 Digits = 1 Symbol = 1\n",
      "Chars = 5 Digits = 1 Symbol = 1\n",
      "Chars = 5 Digits = 1 Symbol = 2\n",
      "Chars = 5 Digits = 1 Symbol = 3\n",
      "Chars = 6 Digits = 1 Symbol = 3\n",
      "Chars = 6 Digits = 2 Symbol = 3\n",
      "Chars = 7 Digits = 2 Symbol = 3\n",
      "Chars = 8 Digits = 2 Symbol = 3\n"
     ]
    }
   ],
   "source": [
    "def word(sti):\n",
    "    tit = 0\n",
    "    did = 0\n",
    "    sis = 0\n",
    "    for i in sti:\n",
    "        if i.isalpha():\n",
    "            tit += 1\n",
    "        elif i.isdigit():\n",
    "            did += 1\n",
    "        else:\n",
    "            sis += 1\n",
    "        print(\"Chars =\", tit, \"Digits =\", did, \"Symbol =\", sis)\n",
    "    \n",
    "word(\"P@yn2at&#i5ve\")"
   ]
  },
  {
   "cell_type": "code",
   "execution_count": 54,
   "id": "45eb3fda",
   "metadata": {},
   "outputs": [
    {
     "name": "stdout",
     "output_type": "stream",
     "text": [
      "char: 1 digit: 0 symbol: 0\n",
      "char: 1 digit: 0 symbol: 1\n",
      "char: 2 digit: 0 symbol: 1\n",
      "char: 3 digit: 0 symbol: 1\n",
      "char: 3 digit: 1 symbol: 1\n",
      "char: 4 digit: 1 symbol: 1\n",
      "char: 5 digit: 1 symbol: 1\n",
      "char: 5 digit: 1 symbol: 2\n",
      "char: 5 digit: 1 symbol: 3\n",
      "char: 6 digit: 1 symbol: 3\n",
      "char: 6 digit: 2 symbol: 3\n",
      "char: 7 digit: 2 symbol: 3\n",
      "char: 8 digit: 2 symbol: 3\n"
     ]
    }
   ],
   "source": [
    "def word(sti):\n",
    "    tit = 0\n",
    "    did = 0\n",
    "    sis = 0\n",
    "    for i in sti:\n",
    "        if i.isalpha():\n",
    "            tit += 1\n",
    "        elif i.isdigit():\n",
    "            did += 1\n",
    "        else:\n",
    "            sis += 1\n",
    "        print(\"char:\",tit,\"digit:\",did,\"symbol:\",sis)\n",
    "\n",
    "word(\"P@yn2at&#i5ve\")"
   ]
  },
  {
   "cell_type": "code",
   "execution_count": 55,
   "id": "579fd7c9",
   "metadata": {},
   "outputs": [
    {
     "name": "stdout",
     "output_type": "stream",
     "text": [
      "Chars = 8 Digits = 2 Symbol = 3\n"
     ]
    }
   ],
   "source": [
    "def word(sti):\n",
    "    tit = 0\n",
    "    did = 0\n",
    "    sis = 0\n",
    "    for i in sti:\n",
    "        if i.isalpha():\n",
    "            tit += 1\n",
    "        elif i.isdigit():\n",
    "            did += 1\n",
    "        else:\n",
    "            sis += 1\n",
    "\n",
    "    print(\"Chars =\", tit, \"Digits =\", did, \"Symbol =\", sis)\n",
    "    \n",
    "word(\"P@yn2at&#i5ve\")"
   ]
  },
  {
   "cell_type": "code",
   "execution_count": 56,
   "id": "83e9edf7",
   "metadata": {},
   "outputs": [
    {
     "name": "stdout",
     "output_type": "stream",
     "text": [
      "char: 1 digit: 0 symbol: 0\n",
      "char: 1 digit: 0 symbol: 1\n",
      "char: 2 digit: 0 symbol: 1\n",
      "char: 3 digit: 0 symbol: 1\n",
      "char: 3 digit: 1 symbol: 1\n",
      "char: 4 digit: 1 symbol: 1\n",
      "char: 5 digit: 1 symbol: 1\n",
      "char: 5 digit: 1 symbol: 2\n",
      "char: 5 digit: 1 symbol: 3\n",
      "char: 6 digit: 1 symbol: 3\n",
      "char: 6 digit: 2 symbol: 3\n",
      "char: 7 digit: 2 symbol: 3\n",
      "char: 8 digit: 2 symbol: 3\n"
     ]
    }
   ],
   "source": [
    "def word(sti):\n",
    "    tit = 0\n",
    "    did = 0\n",
    "    sis = 0\n",
    "    for i in sti:\n",
    "        if i.isalpha():\n",
    "            tit += 1\n",
    "        elif i.isdigit():\n",
    "            did += 1\n",
    "        else:\n",
    "            sis += 1\n",
    "        print(\"char:\",tit,\"digit:\",did,\"symbol:\",sis)\n",
    "\n",
    "word(\"P@yn2at&#i5ve\")\n",
    "            "
   ]
  },
  {
   "cell_type": "code",
   "execution_count": 57,
   "id": "1fdc746d",
   "metadata": {},
   "outputs": [
    {
     "name": "stdout",
     "output_type": "stream",
     "text": [
      "she is okaysowmiya\n"
     ]
    }
   ],
   "source": [
    "swethaa = \"sowmiya\"\n",
    "print('she is okay{}'.format(swethaa))"
   ]
  },
  {
   "cell_type": "code",
   "execution_count": 58,
   "id": "c56bfee8",
   "metadata": {},
   "outputs": [
    {
     "name": "stdout",
     "output_type": "stream",
     "text": [
      "she is okay  swetha\n"
     ]
    }
   ],
   "source": [
    "print(f'she is okay{\"  swetha\"}')"
   ]
  },
  {
   "cell_type": "code",
   "execution_count": 59,
   "id": "3f69712e",
   "metadata": {},
   "outputs": [
    {
     "name": "stdout",
     "output_type": "stream",
     "text": [
      "she is okay jhmf\n"
     ]
    }
   ],
   "source": [
    "s =  \"jhmf\"\n",
    "print('she is okay {}'.format(s))"
   ]
  },
  {
   "cell_type": "code",
   "execution_count": 60,
   "id": "c353c683",
   "metadata": {},
   "outputs": [
    {
     "name": "stdout",
     "output_type": "stream",
     "text": [
      "she is okaysowmiya\n"
     ]
    }
   ],
   "source": [
    "print(\"she is okay\" + swethaa)"
   ]
  },
  {
   "cell_type": "code",
   "execution_count": 61,
   "id": "11408a2c",
   "metadata": {},
   "outputs": [
    {
     "name": "stdout",
     "output_type": "stream",
     "text": [
      "enter:3345\n",
      "3345\n"
     ]
    }
   ],
   "source": [
    "s = int(input(\"enter:\"))\n",
    "print(s)"
   ]
  },
  {
   "cell_type": "code",
   "execution_count": 62,
   "id": "483fb33f",
   "metadata": {},
   "outputs": [
    {
     "name": "stdout",
     "output_type": "stream",
     "text": [
      "oh no that's fine\n"
     ]
    }
   ],
   "source": [
    "print('oh no that\\'s fine')"
   ]
  },
  {
   "cell_type": "code",
   "execution_count": 63,
   "id": "d4ec8464",
   "metadata": {},
   "outputs": [
    {
     "name": "stdout",
     "output_type": "stream",
     "text": [
      "oh no thats \"fine\" \n"
     ]
    }
   ],
   "source": [
    "print(\"oh no thats \\\"fine\\\" \")"
   ]
  },
  {
   "cell_type": "code",
   "execution_count": 64,
   "id": "fabcaf2d",
   "metadata": {},
   "outputs": [
    {
     "name": "stdout",
     "output_type": "stream",
     "text": [
      "those days in my life was good and 844434 so it is so awsome days in these 844434\n"
     ]
    }
   ],
   "source": [
    "days = 844434\n",
    "print(f\"those days in my life was good and {days} so it is so awsome days in these {days}\")"
   ]
  },
  {
   "cell_type": "code",
   "execution_count": 65,
   "id": "9a26c390",
   "metadata": {},
   "outputs": [
    {
     "name": "stdout",
     "output_type": "stream",
     "text": [
      "79428\n",
      "79428.0\n",
      "79428.0\n",
      "79428\n"
     ]
    }
   ],
   "source": [
    "d = 79428\n",
    "f = float(d)\n",
    "s = str(f)\n",
    "e = int(f)\n",
    "print(d)\n",
    "print(f)\n",
    "print(s)\n",
    "print(e)"
   ]
  },
  {
   "cell_type": "code",
   "execution_count": 66,
   "id": "ea282bff",
   "metadata": {},
   "outputs": [
    {
     "name": "stdout",
     "output_type": "stream",
     "text": [
      "5\n"
     ]
    }
   ],
   "source": [
    "a = 5\n",
    "g = str(a)\n",
    "print(g)"
   ]
  },
  {
   "cell_type": "code",
   "execution_count": 68,
   "id": "b16b0cb1",
   "metadata": {},
   "outputs": [
    {
     "name": "stdout",
     "output_type": "stream",
     "text": [
      "<class 'str'>\n",
      "<class 'str'>\n",
      "<class 'float'>\n",
      "<class 'int'>\n",
      "<class 'int'>\n"
     ]
    }
   ],
   "source": [
    "print(type(g))\n",
    "print(type(s))\n",
    "print(type(f))\n",
    "print(type(d))\n",
    "print(type(e))"
   ]
  },
  {
   "cell_type": "code",
   "execution_count": 69,
   "id": "534dc253",
   "metadata": {},
   "outputs": [],
   "source": [
    "def swee():\n",
    "    s = 3244\n",
    "    d = 8079365\n",
    "    f = d-s\n",
    "    print(f)\n"
   ]
  },
  {
   "cell_type": "code",
   "execution_count": 72,
   "id": "e3e193c2",
   "metadata": {},
   "outputs": [
    {
     "name": "stdout",
     "output_type": "stream",
     "text": [
      "ekbhf\n"
     ]
    }
   ],
   "source": [
    "n= 20\n",
    "if n == 20:\n",
    "    print(\"ekbhf\")\n",
    "elif n == 30:\n",
    "        print(\"khdfjcc\")\n",
    "else:\n",
    "        print(\"qwertyu\")"
   ]
  },
  {
   "cell_type": "code",
   "execution_count": 73,
   "id": "9a4a3174",
   "metadata": {},
   "outputs": [
    {
     "name": "stdout",
     "output_type": "stream",
     "text": [
      "swetha\n",
      "sowmiya\n",
      "shivu\n",
      "shakthi\n"
     ]
    }
   ],
   "source": [
    "ref = [\"swetha\" , \"sowmiya\" , \"shivu\" , \"shakthi\" ]\n",
    "for i in ref:\n",
    "    print(i)"
   ]
  },
  {
   "cell_type": "code",
   "execution_count": 74,
   "id": "d754dcbf",
   "metadata": {},
   "outputs": [
    {
     "name": "stdout",
     "output_type": "stream",
     "text": [
      "Invalid\n"
     ]
    }
   ],
   "source": [
    "scores = [34, 167, 99, 105] \n",
    "for s in scores: \n",
    "    if s > 100: \n",
    "        print(\"Invalid\") \n",
    "        break\n",
    "        print(s)"
   ]
  },
  {
   "cell_type": "code",
   "execution_count": 4,
   "id": "3161567f",
   "metadata": {},
   "outputs": [
    {
     "name": "stdout",
     "output_type": "stream",
     "text": [
      "('poriki', 'serupu', 'thoddapakata', 'dash')\n"
     ]
    }
   ],
   "source": [
    "tuple = (\"poriki\" , \"serupu\" , \"thoddapakata\", \"dash\")\n",
    "\n",
    "#it is fixed values . we can't add anything , can't delete anything , replace\n",
    "\n",
    "print(tuple)"
   ]
  },
  {
   "cell_type": "code",
   "execution_count": 5,
   "id": "a462c331",
   "metadata": {},
   "outputs": [
    {
     "name": "stdout",
     "output_type": "stream",
     "text": [
      "('poriki', 'serupu', 'thoddapakata', 'dash', 323, 2478, 89, 92, 211)\n"
     ]
    }
   ],
   "source": [
    "aataa = (323,2478,89,92,211)\n",
    "print( tuple + aataa)\n"
   ]
  },
  {
   "cell_type": "code",
   "execution_count": 6,
   "id": "fa885fd8",
   "metadata": {},
   "outputs": [
    {
     "name": "stdout",
     "output_type": "stream",
     "text": [
      "poriki\n",
      "serupu\n",
      "thoddapakata\n",
      "dash\n"
     ]
    }
   ],
   "source": [
    "for i in tuple:\n",
    "    print(i)"
   ]
  },
  {
   "cell_type": "code",
   "execution_count": 78,
   "id": "5ccfb872",
   "metadata": {},
   "outputs": [
    {
     "name": "stdout",
     "output_type": "stream",
     "text": [
      "its  600\n",
      "its 70\n"
     ]
    }
   ],
   "source": [
    "def problem(num1 , num2):\n",
    " product = num1 * num2\n",
    " if product <= 1000:\n",
    "  return product\n",
    " else:\n",
    "  return num1+num2\n",
    "\n",
    "case1 = problem(20,30)\n",
    "print(\"its \", case1)\n",
    "case2 = problem(40,30)\n",
    "print(\"its\", case2)"
   ]
  },
  {
   "cell_type": "code",
   "execution_count": 79,
   "id": "c300f49c",
   "metadata": {},
   "outputs": [
    {
     "name": "stdout",
     "output_type": "stream",
     "text": [
      "3\n",
      "\n",
      "\n",
      "6\n"
     ]
    }
   ],
   "source": [
    "r = 0\n",
    "n = int(input())\n",
    "for i in range(1,n+1,1):\n",
    "    r +=i\n",
    "print(\"\\n\")\n",
    "print(r)"
   ]
  },
  {
   "cell_type": "code",
   "execution_count": 80,
   "id": "2b91b0ea",
   "metadata": {},
   "outputs": [
    {
     "name": "stdout",
     "output_type": "stream",
     "text": [
      "*****\n",
      "\n",
      "****\n",
      "\n",
      "***\n",
      "\n",
      "**\n",
      "\n",
      "*\n",
      "\n",
      "\n",
      "\n"
     ]
    }
   ],
   "source": [
    "for i in range(6,0,-1):\n",
    "    for j in range(0,i-1):\n",
    "        print(\"*\",end=\"\")\n",
    "    print(\"\\n\")"
   ]
  },
  {
   "cell_type": "code",
   "execution_count": 81,
   "id": "41982f29",
   "metadata": {},
   "outputs": [
    {
     "name": "stdout",
     "output_type": "stream",
     "text": [
      "enter:20\n",
      "1\n"
     ]
    }
   ],
   "source": [
    "s = 0\n",
    "num = int(input(\"enter:\"))\n",
    "while num<10:\n",
    "    i = num+1\n",
    "    s+=1\n",
    "print(i)"
   ]
  },
  {
   "cell_type": "code",
   "execution_count": 82,
   "id": "1dda60a7",
   "metadata": {},
   "outputs": [
    {
     "name": "stdout",
     "output_type": "stream",
     "text": [
      "2\n",
      "4\n",
      "6\n",
      "8\n",
      "10\n",
      "12\n",
      "14\n",
      "16\n",
      "18\n",
      "20\n"
     ]
    }
   ],
   "source": [
    "for i in range(1,11):\n",
    "    s = i*2\n",
    "    print(s)"
   ]
  },
  {
   "cell_type": "code",
   "execution_count": 83,
   "id": "3912aa74",
   "metadata": {},
   "outputs": [
    {
     "name": "stdout",
     "output_type": "stream",
     "text": [
      "true\n",
      "false\n"
     ]
    }
   ],
   "source": [
    "def num(n1):\n",
    "    org = n1\n",
    "    rev = 0\n",
    "    while n1>0:\n",
    "        rem = n1%10\n",
    "        rev = (rev*10) + rem\n",
    "        n1 = n1//10\n",
    "    if org == rev:\n",
    "        print(\"true\")\n",
    "    else:\n",
    "        print(\"false\")\n",
    "num(121)\n",
    "num(1232)"
   ]
  },
  {
   "cell_type": "code",
   "execution_count": 85,
   "id": "fc1d18fc",
   "metadata": {},
   "outputs": [
    {
     "name": "stdout",
     "output_type": "stream",
     "text": [
      "enter:3\n",
      "enter:23\n",
      "enter:22.88\n",
      "enter:23.78\n",
      "[23.0, 22.88, 23.78]\n"
     ]
    }
   ],
   "source": [
    "n = int(input(\"enter:\"))\n",
    "l = []\n",
    "for i in range(n):\n",
    "    num = float(input(\"enter:\"))\n",
    "    l.append(num)\n",
    "print(l)"
   ]
  },
  {
   "cell_type": "code",
   "execution_count": 86,
   "id": "278990c5",
   "metadata": {},
   "outputs": [
    {
     "name": "stdout",
     "output_type": "stream",
     "text": [
      "enter:2\n",
      "enter:22.98\n",
      "enter:2\n",
      "[22.98, 2.0]\n"
     ]
    }
   ],
   "source": [
    "n = int(input(\"enter:\"))\n",
    "l = []\n",
    "for i in range(n):\n",
    "    num = float(input(\"enter:\"))\n",
    "    l.append(num)\n",
    "print(l)"
   ]
  },
  {
   "cell_type": "code",
   "execution_count": 87,
   "id": "fa8c61dc",
   "metadata": {},
   "outputs": [
    {
     "name": "stdout",
     "output_type": "stream",
     "text": [
      "\n",
      "\n",
      "1\n",
      "\n",
      "22\n",
      "\n",
      "333\n",
      "\n",
      "4444\n",
      "\n"
     ]
    }
   ],
   "source": [
    "for i in range(5):\n",
    "    for j in range(i):\n",
    "        print(i,end=\"\")\n",
    "    print(\"\\n\")"
   ]
  },
  {
   "cell_type": "code",
   "execution_count": null,
   "id": "9e02eb4b",
   "metadata": {},
   "outputs": [],
   "source": []
  }
 ],
 "metadata": {
  "kernelspec": {
   "display_name": "Python 3 (ipykernel)",
   "language": "python",
   "name": "python3"
  },
  "language_info": {
   "codemirror_mode": {
    "name": "ipython",
    "version": 3
   },
   "file_extension": ".py",
   "mimetype": "text/x-python",
   "name": "python",
   "nbconvert_exporter": "python",
   "pygments_lexer": "ipython3",
   "version": "3.11.5"
  }
 },
 "nbformat": 4,
 "nbformat_minor": 5
}
