{
 "cells": [
  {
   "cell_type": "code",
   "execution_count": 4,
   "id": "1045881c",
   "metadata": {},
   "outputs": [],
   "source": [
    "import pandas as pd\n",
    "import numpy as np"
   ]
  },
  {
   "cell_type": "code",
   "execution_count": null,
   "id": "d1f0adb9",
   "metadata": {},
   "outputs": [],
   "source": [
    "''' Pandas is a powerful and versatile library that simplifies tasks of data manipulation in Python . \n",
    "Pandas is built on top of the NumPy library and is particularly well-suited for working with tabular data,\n",
    "such as spreadsheets or SQL tables. Its versatility and ease of use make it an essential tool for \n",
    "data analysts, scientists, and engineers working with structured data in Python '''\n",
    "\n",
    "''' Pandas is a Python library used for working with data sets.\n",
    "\n",
    "It has functions for analyzing, cleaning, exploring, and manipulating data.\n",
    "\n",
    "The name \"Pandas\" has a reference to both \"Panel Data\" '''\n",
    "\n"
   ]
  },
  {
   "cell_type": "markdown",
   "id": "fa4b196a",
   "metadata": {},
   "source": [
    "#### create a series object from a List\n",
    ". a pandas series is a one-dimensional array\n",
    "\n",
    ". a series combines the best features of a list and a dictionary\n",
    "\n",
    ". a series maintains a single collection of ordered values(i.e a single column of data)\n",
    "\n",
    ". we can assign each value an identifier , which does not have to be unique"
   ]
  },
  {
   "cell_type": "code",
   "execution_count": 11,
   "id": "021d2efb",
   "metadata": {},
   "outputs": [
    {
     "data": {
      "text/plain": [
       "0     chocolate\n",
       "1       vanilla\n",
       "2    strawberry\n",
       "3    rum-raisin\n",
       "dtype: object"
      ]
     },
     "execution_count": 11,
     "metadata": {},
     "output_type": "execute_result"
    }
   ],
   "source": [
    "i = [\"chocolate\" , \"vanilla\" , \"strawberry\" , \"rum-raisin\"]\n",
    "pd.Series(i)\n"
   ]
  },
  {
   "cell_type": "code",
   "execution_count": 12,
   "id": "2242c723",
   "metadata": {},
   "outputs": [
    {
     "data": {
      "text/plain": [
       "0      1\n",
       "1      3\n",
       "2     55\n",
       "3      1\n",
       "4     65\n",
       "5    223\n",
       "dtype: int64"
      ]
     },
     "execution_count": 12,
     "metadata": {},
     "output_type": "execute_result"
    }
   ],
   "source": [
    "d = [1,3,55,1,65,223,]\n",
    "pd.Series(d)"
   ]
  },
  {
   "cell_type": "code",
   "execution_count": 13,
   "id": "9b131b82",
   "metadata": {},
   "outputs": [
    {
     "data": {
      "text/plain": [
       "0     True\n",
       "1    False\n",
       "2     True\n",
       "3     True\n",
       "dtype: bool"
      ]
     },
     "execution_count": 13,
     "metadata": {},
     "output_type": "execute_result"
    }
   ],
   "source": [
    "r = [True , False, True , True]\n",
    "pd.Series(r)"
   ]
  },
  {
   "cell_type": "code",
   "execution_count": null,
   "id": "275711ce",
   "metadata": {},
   "outputs": [],
   "source": [
    "# https://pandas.pydata.org/docs/user_guide/10min.html#object-creation"
   ]
  },
  {
   "cell_type": "code",
   "execution_count": 15,
   "id": "9d39c7e6",
   "metadata": {},
   "outputs": [
    {
     "data": {
      "text/plain": [
       "0    1.0\n",
       "1    3.0\n",
       "2    5.0\n",
       "3    NaN\n",
       "4    6.0\n",
       "5    8.0\n",
       "dtype: float64"
      ]
     },
     "execution_count": 15,
     "metadata": {},
     "output_type": "execute_result"
    }
   ],
   "source": [
    "s = pd.Series([1, 3, 5, np.nan, 6, 8])\n",
    "s"
   ]
  },
  {
   "cell_type": "code",
   "execution_count": null,
   "id": "b4c1c539",
   "metadata": {},
   "outputs": [],
   "source": [
    "''' \n",
    "np.nan stands for \"Not a Number\" and is a special floating-point\n",
    "value in NumPy that represents undefined or unrepresentable values \n",
    "in computations. It is often used to indicate missing or undefined \n",
    "data in numerical arrays. '''"
   ]
  },
  {
   "cell_type": "code",
   "execution_count": 16,
   "id": "d1ffe2de",
   "metadata": {},
   "outputs": [
    {
     "data": {
      "text/plain": [
       "DatetimeIndex(['2013-01-01', '2013-01-02', '2013-01-03', '2013-01-04',\n",
       "               '2013-01-05', '2013-01-06'],\n",
       "              dtype='datetime64[ns]', freq='D')"
      ]
     },
     "execution_count": 16,
     "metadata": {},
     "output_type": "execute_result"
    }
   ],
   "source": [
    "d =pd.date_range(\"20130101\", periods=6)\n",
    "d"
   ]
  },
  {
   "cell_type": "code",
   "execution_count": 19,
   "id": "a830ed33",
   "metadata": {},
   "outputs": [
    {
     "name": "stdout",
     "output_type": "stream",
     "text": [
      "                   A         B         C         D\n",
      "2023-01-01 -1.082826 -1.456721  1.509180 -1.714055\n",
      "2023-01-02 -0.135366  0.269342  0.376616 -1.012839\n",
      "2023-01-03 -0.063815 -0.627247 -0.034131  0.200011\n",
      "2023-01-04 -1.220555  0.903626  0.229168  0.061529\n",
      "2023-01-05 -1.319359 -0.600355 -0.988869  1.446262\n",
      "2023-01-06 -1.228755  0.854594 -1.499073  0.877010\n"
     ]
    }
   ],
   "source": [
    "# Define the dates\n",
    "dates = pd.date_range('20230101', periods=6)\n",
    "\n",
    "# Create a DataFrame with random values\n",
    "df = pd.DataFrame(np.random.randn(6, 4), index=dates, columns=list(\"ABCD\"))\n",
    "\n",
    "# Print the DataFrame\n",
    "print(df)\n"
   ]
  },
  {
   "cell_type": "code",
   "execution_count": null,
   "id": "9c1ad587",
   "metadata": {},
   "outputs": [],
   "source": [
    "# https://pandas.pydata.org/docs/reference/api/pandas.Series.html"
   ]
  },
  {
   "cell_type": "code",
   "execution_count": 23,
   "id": "c8738b3d",
   "metadata": {},
   "outputs": [
    {
     "data": {
      "text/plain": [
       "name         swetha\n",
       "age              22\n",
       "gender       female\n",
       "DOB       15/3/2001\n",
       "dtype: object"
      ]
     },
     "execution_count": 23,
     "metadata": {},
     "output_type": "execute_result"
    }
   ],
   "source": [
    "swe = {\n",
    "    \"name\":\"swetha\",\n",
    "    \"age\": 22,\n",
    "    \"gender\": \"female\",\n",
    "    \"DOB\": \"15/3/2001\"\n",
    "}\n",
    "pd.Series(swe)"
   ]
  },
  {
   "cell_type": "code",
   "execution_count": 24,
   "id": "8c6782da",
   "metadata": {},
   "outputs": [
    {
     "data": {
      "text/plain": [
       "0     2.34\n",
       "1     1.00\n",
       "2    19.23\n",
       "3    17.00\n",
       "4    38.93\n",
       "dtype: float64"
      ]
     },
     "execution_count": 24,
     "metadata": {},
     "output_type": "execute_result"
    }
   ],
   "source": [
    "o = pd.Series([2.34,1,19.23,17,38.93])\n",
    "o"
   ]
  },
  {
   "cell_type": "code",
   "execution_count": null,
   "id": "c6aab6ee",
   "metadata": {},
   "outputs": [],
   "source": [
    "# https://pandas.pydata.org/docs/reference/api/pandas.Series.sum.html#pandas.Series.sum"
   ]
  },
  {
   "cell_type": "code",
   "execution_count": 25,
   "id": "3aa16fe4",
   "metadata": {},
   "outputs": [
    {
     "data": {
      "text/plain": [
       "78.5"
      ]
     },
     "execution_count": 25,
     "metadata": {},
     "output_type": "execute_result"
    }
   ],
   "source": [
    "o.sum()"
   ]
  },
  {
   "cell_type": "code",
   "execution_count": null,
   "id": "f0907175",
   "metadata": {},
   "outputs": [],
   "source": [
    "# https://pandas.pydata.org/docs/reference/api/pandas.Series.product.html#pandas.Series.product"
   ]
  },
  {
   "cell_type": "code",
   "execution_count": 26,
   "id": "0d3ab455",
   "metadata": {},
   "outputs": [
    {
     "data": {
      "text/plain": [
       "29780.258741999998"
      ]
     },
     "execution_count": 26,
     "metadata": {},
     "output_type": "execute_result"
    }
   ],
   "source": [
    "o.product()"
   ]
  },
  {
   "cell_type": "code",
   "execution_count": null,
   "id": "5ba37a63",
   "metadata": {},
   "outputs": [],
   "source": [
    "# https://pandas.pydata.org/docs/reference/api/pandas.Series.mean.html#pandas.Series.mean"
   ]
  },
  {
   "cell_type": "code",
   "execution_count": 28,
   "id": "c7f770e5",
   "metadata": {},
   "outputs": [
    {
     "data": {
      "text/plain": [
       "15.7"
      ]
     },
     "execution_count": 28,
     "metadata": {},
     "output_type": "execute_result"
    }
   ],
   "source": [
    "o.mean()"
   ]
  },
  {
   "cell_type": "code",
   "execution_count": 29,
   "id": "e0253a61",
   "metadata": {},
   "outputs": [
    {
     "data": {
      "text/plain": [
       "15.397754706449899"
      ]
     },
     "execution_count": 29,
     "metadata": {},
     "output_type": "execute_result"
    }
   ],
   "source": [
    "o.std()"
   ]
  },
  {
   "cell_type": "markdown",
   "id": "e4633e9f",
   "metadata": {},
   "source": [
    "#### Intro to Attributes\n",
    ". an attribute is a piece of data that lives on an object\n",
    "\n",
    ". an attribute is a fact, a detail a characterisitic of the object\n",
    "\n",
    ". access an attribute with object.attribute syntax"
   ]
  },
  {
   "cell_type": "code",
   "execution_count": null,
   "id": "e17b05c0",
   "metadata": {},
   "outputs": [],
   "source": [
    "#https://pandas.pydata.org/docs/reference/api/pandas.Series.html"
   ]
  },
  {
   "cell_type": "code",
   "execution_count": 30,
   "id": "216ae776",
   "metadata": {},
   "outputs": [
    {
     "data": {
      "text/plain": [
       "0     swetha\n",
       "1    sowmiya\n",
       "2     swetha\n",
       "3      shivu\n",
       "4      rithu\n",
       "5        etc\n",
       "dtype: object"
      ]
     },
     "execution_count": 30,
     "metadata": {},
     "output_type": "execute_result"
    }
   ],
   "source": [
    "ad = pd.Series([\"swetha\",\"sowmiya\",\"swetha\",\"shivu\",\"rithu\",\"etc\"])\n",
    "ad\n"
   ]
  },
  {
   "cell_type": "code",
   "execution_count": 31,
   "id": "1d3f364b",
   "metadata": {},
   "outputs": [
    {
     "data": {
      "text/plain": [
       "6"
      ]
     },
     "execution_count": 31,
     "metadata": {},
     "output_type": "execute_result"
    }
   ],
   "source": [
    "ad.size"
   ]
  },
  {
   "cell_type": "code",
   "execution_count": 32,
   "id": "81d768cb",
   "metadata": {},
   "outputs": [
    {
     "data": {
      "text/plain": [
       "False"
      ]
     },
     "execution_count": 32,
     "metadata": {},
     "output_type": "execute_result"
    }
   ],
   "source": [
    "ad.is_unique"
   ]
  },
  {
   "cell_type": "code",
   "execution_count": 33,
   "id": "94021416",
   "metadata": {},
   "outputs": [
    {
     "data": {
      "text/plain": [
       "array(['swetha', 'sowmiya', 'swetha', 'shivu', 'rithu', 'etc'],\n",
       "      dtype=object)"
      ]
     },
     "execution_count": 33,
     "metadata": {},
     "output_type": "execute_result"
    }
   ],
   "source": [
    "ad.values"
   ]
  },
  {
   "cell_type": "code",
   "execution_count": 34,
   "id": "dfdf03eb",
   "metadata": {},
   "outputs": [
    {
     "data": {
      "text/plain": [
       "RangeIndex(start=0, stop=6, step=1)"
      ]
     },
     "execution_count": 34,
     "metadata": {},
     "output_type": "execute_result"
    }
   ],
   "source": [
    "ad.index"
   ]
  },
  {
   "cell_type": "code",
   "execution_count": 35,
   "id": "be739c3d",
   "metadata": {},
   "outputs": [
    {
     "data": {
      "text/plain": [
       "numpy.ndarray"
      ]
     },
     "execution_count": 35,
     "metadata": {},
     "output_type": "execute_result"
    }
   ],
   "source": [
    "type(ad.values)"
   ]
  },
  {
   "cell_type": "code",
   "execution_count": 36,
   "id": "542be516",
   "metadata": {},
   "outputs": [
    {
     "data": {
      "text/plain": [
       "pandas.core.indexes.range.RangeIndex"
      ]
     },
     "execution_count": 36,
     "metadata": {},
     "output_type": "execute_result"
    }
   ],
   "source": [
    "type(ad.index)"
   ]
  },
  {
   "cell_type": "markdown",
   "id": "d7aa5e76",
   "metadata": {},
   "source": [
    "#### Parameters and Arguments\n",
    ". a parameter is the name for an expected input to a function/method/class instantiation\n",
    "\n",
    ". an argument is the concrete value we provide for a parameter during invocation"
   ]
  },
  {
   "cell_type": "code",
   "execution_count": null,
   "id": "a28fafc3",
   "metadata": {},
   "outputs": [],
   "source": [
    "# https://pandas.pydata.org/docs/reference/api/pandas.Series.html"
   ]
  },
  {
   "cell_type": "code",
   "execution_count": 45,
   "id": "ad7c8d19",
   "metadata": {},
   "outputs": [
    {
     "name": "stdout",
     "output_type": "stream",
     "text": [
      "0         apple\n",
      "1        orange\n",
      "2        banana\n",
      "3         grape\n",
      "4          plum\n",
      "5    watermelon\n",
      "dtype: object\n",
      "0     mon\n",
      "1     tue\n",
      "2     wed\n",
      "3    thus\n",
      "4     fri\n",
      "5     mon\n",
      "dtype: object\n"
     ]
    }
   ],
   "source": [
    "f = [\"apple\" , \"orange\" , \"banana\" ,\"grape\" , \"plum\" , \"watermelon\"]\n",
    "w = [\"mon\" , \"tue\" , \"wed\" , \"thus\" , \"fri\" , \"mon\"]\n",
    "print(pd.Series(f))\n",
    "print(pd.Series(w))\n"
   ]
  },
  {
   "cell_type": "code",
   "execution_count": 46,
   "id": "86cecabc",
   "metadata": {},
   "outputs": [
    {
     "name": "stdout",
     "output_type": "stream",
     "text": [
      "mon          apple\n",
      "tue         orange\n",
      "wed         banana\n",
      "thus         grape\n",
      "fri           plum\n",
      "mon     watermelon\n",
      "dtype: object\n"
     ]
    }
   ],
   "source": [
    "print(pd.Series(f,w))"
   ]
  },
  {
   "cell_type": "code",
   "execution_count": 47,
   "id": "fbaee85e",
   "metadata": {},
   "outputs": [
    {
     "data": {
      "text/plain": [
       "apple          mon\n",
       "orange         tue\n",
       "banana         wed\n",
       "grape         thus\n",
       "plum           fri\n",
       "watermelon     mon\n",
       "dtype: object"
      ]
     },
     "execution_count": 47,
     "metadata": {},
     "output_type": "execute_result"
    }
   ],
   "source": [
    "pd.Series(w,f)"
   ]
  },
  {
   "cell_type": "code",
   "execution_count": 48,
   "id": "c1caf163",
   "metadata": {},
   "outputs": [
    {
     "data": {
      "text/plain": [
       "mon          apple\n",
       "tue         orange\n",
       "wed         banana\n",
       "thus         grape\n",
       "fri           plum\n",
       "mon     watermelon\n",
       "dtype: object"
      ]
     },
     "execution_count": 48,
     "metadata": {},
     "output_type": "execute_result"
    }
   ],
   "source": [
    "pd.Series(data=f,index=w)"
   ]
  },
  {
   "cell_type": "code",
   "execution_count": 49,
   "id": "a28adb58",
   "metadata": {},
   "outputs": [
    {
     "data": {
      "text/plain": [
       "mon          apple\n",
       "tue         orange\n",
       "wed         banana\n",
       "thus         grape\n",
       "fri           plum\n",
       "mon     watermelon\n",
       "dtype: object"
      ]
     },
     "execution_count": 49,
     "metadata": {},
     "output_type": "execute_result"
    }
   ],
   "source": [
    "pd.Series(index=w,data=f)"
   ]
  },
  {
   "cell_type": "code",
   "execution_count": 50,
   "id": "83931941",
   "metadata": {},
   "outputs": [
    {
     "data": {
      "text/plain": [
       "mon          apple\n",
       "tue         orange\n",
       "wed         banana\n",
       "thus         grape\n",
       "fri           plum\n",
       "mon     watermelon\n",
       "dtype: object"
      ]
     },
     "execution_count": 50,
     "metadata": {},
     "output_type": "execute_result"
    }
   ],
   "source": [
    "pd.Series(f , index = w)"
   ]
  },
  {
   "cell_type": "markdown",
   "id": "253c9c3e",
   "metadata": {},
   "source": [
    "#### Import Series with the pd.read_csv Function\n",
    "• A CSV is a plain text file that uses line breaks to separate rows and commas to separate row values.\n",
    "\n",
    "• Pandas ships with many different read_functions for different types of files.\n",
    "\n",
    "• The read_csv function accepts many different parameters. The first one specifies the file name/path.\n",
    "\n",
    "• The read_csv function will import the dataset as a DataFrame, a 2-dimensional table.\n",
    "\n",
    "• The usecols parameter accepts a list of the column(s) to import.\n",
    "\n",
    "• The squeeze method converts a DataFrame to a Series."
   ]
  },
  {
   "cell_type": "code",
   "execution_count": 51,
   "id": "b9c266c0",
   "metadata": {},
   "outputs": [
    {
     "ename": "FileNotFoundError",
     "evalue": "[Errno 2] No such file or directory: 'data.txt'",
     "output_type": "error",
     "traceback": [
      "\u001b[1;31m---------------------------------------------------------------------------\u001b[0m",
      "\u001b[1;31mFileNotFoundError\u001b[0m                         Traceback (most recent call last)",
      "Cell \u001b[1;32mIn[51], line 1\u001b[0m\n\u001b[1;32m----> 1\u001b[0m pd\u001b[38;5;241m.\u001b[39mread_csv(\u001b[38;5;124m\"\u001b[39m\u001b[38;5;124mdata.txt\u001b[39m\u001b[38;5;124m\"\u001b[39m)\n",
      "File \u001b[1;32m~\\anaconda3\\Lib\\site-packages\\pandas\\io\\parsers\\readers.py:912\u001b[0m, in \u001b[0;36mread_csv\u001b[1;34m(filepath_or_buffer, sep, delimiter, header, names, index_col, usecols, dtype, engine, converters, true_values, false_values, skipinitialspace, skiprows, skipfooter, nrows, na_values, keep_default_na, na_filter, verbose, skip_blank_lines, parse_dates, infer_datetime_format, keep_date_col, date_parser, date_format, dayfirst, cache_dates, iterator, chunksize, compression, thousands, decimal, lineterminator, quotechar, quoting, doublequote, escapechar, comment, encoding, encoding_errors, dialect, on_bad_lines, delim_whitespace, low_memory, memory_map, float_precision, storage_options, dtype_backend)\u001b[0m\n\u001b[0;32m    899\u001b[0m kwds_defaults \u001b[38;5;241m=\u001b[39m _refine_defaults_read(\n\u001b[0;32m    900\u001b[0m     dialect,\n\u001b[0;32m    901\u001b[0m     delimiter,\n\u001b[1;32m   (...)\u001b[0m\n\u001b[0;32m    908\u001b[0m     dtype_backend\u001b[38;5;241m=\u001b[39mdtype_backend,\n\u001b[0;32m    909\u001b[0m )\n\u001b[0;32m    910\u001b[0m kwds\u001b[38;5;241m.\u001b[39mupdate(kwds_defaults)\n\u001b[1;32m--> 912\u001b[0m \u001b[38;5;28;01mreturn\u001b[39;00m _read(filepath_or_buffer, kwds)\n",
      "File \u001b[1;32m~\\anaconda3\\Lib\\site-packages\\pandas\\io\\parsers\\readers.py:577\u001b[0m, in \u001b[0;36m_read\u001b[1;34m(filepath_or_buffer, kwds)\u001b[0m\n\u001b[0;32m    574\u001b[0m _validate_names(kwds\u001b[38;5;241m.\u001b[39mget(\u001b[38;5;124m\"\u001b[39m\u001b[38;5;124mnames\u001b[39m\u001b[38;5;124m\"\u001b[39m, \u001b[38;5;28;01mNone\u001b[39;00m))\n\u001b[0;32m    576\u001b[0m \u001b[38;5;66;03m# Create the parser.\u001b[39;00m\n\u001b[1;32m--> 577\u001b[0m parser \u001b[38;5;241m=\u001b[39m TextFileReader(filepath_or_buffer, \u001b[38;5;241m*\u001b[39m\u001b[38;5;241m*\u001b[39mkwds)\n\u001b[0;32m    579\u001b[0m \u001b[38;5;28;01mif\u001b[39;00m chunksize \u001b[38;5;129;01mor\u001b[39;00m iterator:\n\u001b[0;32m    580\u001b[0m     \u001b[38;5;28;01mreturn\u001b[39;00m parser\n",
      "File \u001b[1;32m~\\anaconda3\\Lib\\site-packages\\pandas\\io\\parsers\\readers.py:1407\u001b[0m, in \u001b[0;36mTextFileReader.__init__\u001b[1;34m(self, f, engine, **kwds)\u001b[0m\n\u001b[0;32m   1404\u001b[0m     \u001b[38;5;28mself\u001b[39m\u001b[38;5;241m.\u001b[39moptions[\u001b[38;5;124m\"\u001b[39m\u001b[38;5;124mhas_index_names\u001b[39m\u001b[38;5;124m\"\u001b[39m] \u001b[38;5;241m=\u001b[39m kwds[\u001b[38;5;124m\"\u001b[39m\u001b[38;5;124mhas_index_names\u001b[39m\u001b[38;5;124m\"\u001b[39m]\n\u001b[0;32m   1406\u001b[0m \u001b[38;5;28mself\u001b[39m\u001b[38;5;241m.\u001b[39mhandles: IOHandles \u001b[38;5;241m|\u001b[39m \u001b[38;5;28;01mNone\u001b[39;00m \u001b[38;5;241m=\u001b[39m \u001b[38;5;28;01mNone\u001b[39;00m\n\u001b[1;32m-> 1407\u001b[0m \u001b[38;5;28mself\u001b[39m\u001b[38;5;241m.\u001b[39m_engine \u001b[38;5;241m=\u001b[39m \u001b[38;5;28mself\u001b[39m\u001b[38;5;241m.\u001b[39m_make_engine(f, \u001b[38;5;28mself\u001b[39m\u001b[38;5;241m.\u001b[39mengine)\n",
      "File \u001b[1;32m~\\anaconda3\\Lib\\site-packages\\pandas\\io\\parsers\\readers.py:1661\u001b[0m, in \u001b[0;36mTextFileReader._make_engine\u001b[1;34m(self, f, engine)\u001b[0m\n\u001b[0;32m   1659\u001b[0m     \u001b[38;5;28;01mif\u001b[39;00m \u001b[38;5;124m\"\u001b[39m\u001b[38;5;124mb\u001b[39m\u001b[38;5;124m\"\u001b[39m \u001b[38;5;129;01mnot\u001b[39;00m \u001b[38;5;129;01min\u001b[39;00m mode:\n\u001b[0;32m   1660\u001b[0m         mode \u001b[38;5;241m+\u001b[39m\u001b[38;5;241m=\u001b[39m \u001b[38;5;124m\"\u001b[39m\u001b[38;5;124mb\u001b[39m\u001b[38;5;124m\"\u001b[39m\n\u001b[1;32m-> 1661\u001b[0m \u001b[38;5;28mself\u001b[39m\u001b[38;5;241m.\u001b[39mhandles \u001b[38;5;241m=\u001b[39m get_handle(\n\u001b[0;32m   1662\u001b[0m     f,\n\u001b[0;32m   1663\u001b[0m     mode,\n\u001b[0;32m   1664\u001b[0m     encoding\u001b[38;5;241m=\u001b[39m\u001b[38;5;28mself\u001b[39m\u001b[38;5;241m.\u001b[39moptions\u001b[38;5;241m.\u001b[39mget(\u001b[38;5;124m\"\u001b[39m\u001b[38;5;124mencoding\u001b[39m\u001b[38;5;124m\"\u001b[39m, \u001b[38;5;28;01mNone\u001b[39;00m),\n\u001b[0;32m   1665\u001b[0m     compression\u001b[38;5;241m=\u001b[39m\u001b[38;5;28mself\u001b[39m\u001b[38;5;241m.\u001b[39moptions\u001b[38;5;241m.\u001b[39mget(\u001b[38;5;124m\"\u001b[39m\u001b[38;5;124mcompression\u001b[39m\u001b[38;5;124m\"\u001b[39m, \u001b[38;5;28;01mNone\u001b[39;00m),\n\u001b[0;32m   1666\u001b[0m     memory_map\u001b[38;5;241m=\u001b[39m\u001b[38;5;28mself\u001b[39m\u001b[38;5;241m.\u001b[39moptions\u001b[38;5;241m.\u001b[39mget(\u001b[38;5;124m\"\u001b[39m\u001b[38;5;124mmemory_map\u001b[39m\u001b[38;5;124m\"\u001b[39m, \u001b[38;5;28;01mFalse\u001b[39;00m),\n\u001b[0;32m   1667\u001b[0m     is_text\u001b[38;5;241m=\u001b[39mis_text,\n\u001b[0;32m   1668\u001b[0m     errors\u001b[38;5;241m=\u001b[39m\u001b[38;5;28mself\u001b[39m\u001b[38;5;241m.\u001b[39moptions\u001b[38;5;241m.\u001b[39mget(\u001b[38;5;124m\"\u001b[39m\u001b[38;5;124mencoding_errors\u001b[39m\u001b[38;5;124m\"\u001b[39m, \u001b[38;5;124m\"\u001b[39m\u001b[38;5;124mstrict\u001b[39m\u001b[38;5;124m\"\u001b[39m),\n\u001b[0;32m   1669\u001b[0m     storage_options\u001b[38;5;241m=\u001b[39m\u001b[38;5;28mself\u001b[39m\u001b[38;5;241m.\u001b[39moptions\u001b[38;5;241m.\u001b[39mget(\u001b[38;5;124m\"\u001b[39m\u001b[38;5;124mstorage_options\u001b[39m\u001b[38;5;124m\"\u001b[39m, \u001b[38;5;28;01mNone\u001b[39;00m),\n\u001b[0;32m   1670\u001b[0m )\n\u001b[0;32m   1671\u001b[0m \u001b[38;5;28;01massert\u001b[39;00m \u001b[38;5;28mself\u001b[39m\u001b[38;5;241m.\u001b[39mhandles \u001b[38;5;129;01mis\u001b[39;00m \u001b[38;5;129;01mnot\u001b[39;00m \u001b[38;5;28;01mNone\u001b[39;00m\n\u001b[0;32m   1672\u001b[0m f \u001b[38;5;241m=\u001b[39m \u001b[38;5;28mself\u001b[39m\u001b[38;5;241m.\u001b[39mhandles\u001b[38;5;241m.\u001b[39mhandle\n",
      "File \u001b[1;32m~\\anaconda3\\Lib\\site-packages\\pandas\\io\\common.py:859\u001b[0m, in \u001b[0;36mget_handle\u001b[1;34m(path_or_buf, mode, encoding, compression, memory_map, is_text, errors, storage_options)\u001b[0m\n\u001b[0;32m    854\u001b[0m \u001b[38;5;28;01melif\u001b[39;00m \u001b[38;5;28misinstance\u001b[39m(handle, \u001b[38;5;28mstr\u001b[39m):\n\u001b[0;32m    855\u001b[0m     \u001b[38;5;66;03m# Check whether the filename is to be opened in binary mode.\u001b[39;00m\n\u001b[0;32m    856\u001b[0m     \u001b[38;5;66;03m# Binary mode does not support 'encoding' and 'newline'.\u001b[39;00m\n\u001b[0;32m    857\u001b[0m     \u001b[38;5;28;01mif\u001b[39;00m ioargs\u001b[38;5;241m.\u001b[39mencoding \u001b[38;5;129;01mand\u001b[39;00m \u001b[38;5;124m\"\u001b[39m\u001b[38;5;124mb\u001b[39m\u001b[38;5;124m\"\u001b[39m \u001b[38;5;129;01mnot\u001b[39;00m \u001b[38;5;129;01min\u001b[39;00m ioargs\u001b[38;5;241m.\u001b[39mmode:\n\u001b[0;32m    858\u001b[0m         \u001b[38;5;66;03m# Encoding\u001b[39;00m\n\u001b[1;32m--> 859\u001b[0m         handle \u001b[38;5;241m=\u001b[39m \u001b[38;5;28mopen\u001b[39m(\n\u001b[0;32m    860\u001b[0m             handle,\n\u001b[0;32m    861\u001b[0m             ioargs\u001b[38;5;241m.\u001b[39mmode,\n\u001b[0;32m    862\u001b[0m             encoding\u001b[38;5;241m=\u001b[39mioargs\u001b[38;5;241m.\u001b[39mencoding,\n\u001b[0;32m    863\u001b[0m             errors\u001b[38;5;241m=\u001b[39merrors,\n\u001b[0;32m    864\u001b[0m             newline\u001b[38;5;241m=\u001b[39m\u001b[38;5;124m\"\u001b[39m\u001b[38;5;124m\"\u001b[39m,\n\u001b[0;32m    865\u001b[0m         )\n\u001b[0;32m    866\u001b[0m     \u001b[38;5;28;01melse\u001b[39;00m:\n\u001b[0;32m    867\u001b[0m         \u001b[38;5;66;03m# Binary mode\u001b[39;00m\n\u001b[0;32m    868\u001b[0m         handle \u001b[38;5;241m=\u001b[39m \u001b[38;5;28mopen\u001b[39m(handle, ioargs\u001b[38;5;241m.\u001b[39mmode)\n",
      "\u001b[1;31mFileNotFoundError\u001b[0m: [Errno 2] No such file or directory: 'data.txt'"
     ]
    }
   ],
   "source": [
    "pd.read_csv(\"data.txt\")"
   ]
  },
  {
   "cell_type": "code",
   "execution_count": null,
   "id": "4f057f02",
   "metadata": {},
   "outputs": [],
   "source": []
  }
 ],
 "metadata": {
  "kernelspec": {
   "display_name": "Python 3 (ipykernel)",
   "language": "python",
   "name": "python3"
  },
  "language_info": {
   "codemirror_mode": {
    "name": "ipython",
    "version": 3
   },
   "file_extension": ".py",
   "mimetype": "text/x-python",
   "name": "python",
   "nbconvert_exporter": "python",
   "pygments_lexer": "ipython3",
   "version": "3.11.5"
  }
 },
 "nbformat": 4,
 "nbformat_minor": 5
}
